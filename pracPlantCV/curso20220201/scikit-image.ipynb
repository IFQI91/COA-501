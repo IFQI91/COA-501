{
 "cells": [
  {
   "cell_type": "markdown",
   "metadata": {},
   "source": [
    "# scikit-image\n",
    "\n",
    "Image processing in python\n"
   ]
  },
  {
   "cell_type": "code",
   "execution_count": null,
   "metadata": {},
   "outputs": [],
   "source": [
    "from skimage import data, io, filters\n",
    "\n",
    "image = data.coins()\n",
    "#io.imshow(image)\n",
    "#io.show\n",
    "# ... or any other NumPy array!\n",
    "edges = filters.sobel(image)\n",
    "io.imshow(edges)\n",
    "io.show()"
   ]
  },
  {
   "cell_type": "markdown",
   "metadata": {},
   "source": [
    "## Separate colors in immunohistochemical staining\n",
    "Color deconvolution consists in the separation of features by their colors.\n",
    "\n",
    "In this example we separate the immunohistochemical (IHC) staining from the hematoxylin counterstaining. The separation is achieved with the method described in 1 and known as “color deconvolution”.\n",
    "\n",
    "The IHC staining expression of the FHL2 protein is here revealed with diaminobenzidine (DAB) which gives a brown color.\n",
    "\n",
    "1 A. C. Ruifrok and D. A. Johnston, “Quantification of histochemical staining by color deconvolution,” Analytical and quantitative cytology and histology / the International Academy of Cytology [and] American Society of Cytology, vol. 23, no. 4, pp. 291-9, Aug. 2001. PMID: 11531144"
   ]
  },
  {
   "cell_type": "code",
   "execution_count": null,
   "metadata": {},
   "outputs": [],
   "source": [
    "import numpy as np\n",
    "import matplotlib.pyplot as plt\n",
    "\n",
    "from skimage import data\n",
    "from skimage.color import rgb2hed, hed2rgb\n",
    "\n",
    "# Example IHC image\n",
    "ihc_rgb = data.immunohistochemistry()\n",
    "\n",
    "# Separate the stains from the IHC image\n",
    "ihc_hed = rgb2hed(ihc_rgb)\n",
    "\n",
    "# Create an RGB image for each of the stains\n",
    "null = np.zeros_like(ihc_hed[:, :, 0])\n",
    "ihc_h = hed2rgb(np.stack((ihc_hed[:, :, 0], null, null), axis=-1))\n",
    "ihc_e = hed2rgb(np.stack((null, ihc_hed[:, :, 1], null), axis=-1))\n",
    "ihc_d = hed2rgb(np.stack((null, null, ihc_hed[:, :, 2]), axis=-1))\n",
    "\n",
    "# Display\n",
    "fig, axes = plt.subplots(2, 2, figsize=(7, 6), sharex=True, sharey=True)\n",
    "ax = axes.ravel()\n",
    "\n",
    "ax[0].imshow(ihc_rgb)\n",
    "ax[0].set_title(\"Original image\")\n",
    "\n",
    "ax[1].imshow(ihc_h)\n",
    "ax[1].set_title(\"Hematoxylin\")\n",
    "\n",
    "ax[2].imshow(ihc_e)\n",
    "ax[2].set_title(\"Eosin\")  # Note that there is no Eosin stain in this image\n",
    "\n",
    "ax[3].imshow(ihc_d)\n",
    "ax[3].set_title(\"DAB\")\n",
    "\n",
    "for a in ax.ravel():\n",
    "    a.axis('off')\n",
    "\n",
    "fig.tight_layout()"
   ]
  },
  {
   "cell_type": "code",
   "execution_count": null,
   "metadata": {},
   "outputs": [],
   "source": [
    "from skimage.exposure import rescale_intensity\n",
    "\n",
    "# Rescale hematoxylin and DAB channels and give them a fluorescence look\n",
    "h = rescale_intensity(ihc_hed[:, :, 0], out_range=(0, 1),\n",
    "                      in_range=(0, np.percentile(ihc_hed[:, :, 0], 99)))\n",
    "d = rescale_intensity(ihc_hed[:, :, 2], out_range=(0, 1),\n",
    "                      in_range=(0, np.percentile(ihc_hed[:, :, 2], 99)))\n",
    "\n",
    "# Cast the two channels into an RGB image, as the blue and green channels\n",
    "# respectively\n",
    "zdh = np.dstack((null, d, h))\n",
    "\n",
    "fig = plt.figure()\n",
    "axis = plt.subplot(1, 1, 1, sharex=ax[0], sharey=ax[0])\n",
    "axis.imshow(zdh)\n",
    "axis.set_title('Stain-separated image (rescaled)')\n",
    "axis.axis('off')\n",
    "plt.show()"
   ]
  },
  {
   "cell_type": "code",
   "execution_count": null,
   "metadata": {},
   "outputs": [],
   "source": []
  }
 ],
 "metadata": {
  "kernelspec": {
   "display_name": "Python 3",
   "language": "python",
   "name": "python3"
  },
  "language_info": {
   "codemirror_mode": {
    "name": "ipython",
    "version": 3
   },
   "file_extension": ".py",
   "mimetype": "text/x-python",
   "name": "python",
   "nbconvert_exporter": "python",
   "pygments_lexer": "ipython3",
   "version": "3.9.4"
  }
 },
 "nbformat": 4,
 "nbformat_minor": 4
}
