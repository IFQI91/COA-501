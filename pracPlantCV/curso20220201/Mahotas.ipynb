{
 "cells": [
  {
   "cell_type": "markdown",
   "metadata": {
    "scrolled": true
   },
   "source": [
    "# MAHOTAS\n",
    "\n",
    "COMPUTER VISION IN PYTHON\n",
    "\n",
    "Mahotas tiene alrededor de 100 funciones para el proceso de imágenes y visión computacional."
   ]
  },
  {
   "cell_type": "code",
   "execution_count": null,
   "metadata": {},
   "outputs": [],
   "source": [
    "import numpy as np\n",
    "import mahotas\n",
    "from pylab import imshow, gray, show\n",
    "from os import path\n",
    "\n",
    "#Lectura de imágenes\n",
    "img = mahotas.imread('hoja.png')\n",
    "photo=mahotas.imread('hoja.jpg')\n",
    "\n",
    "photo=photo.astype(np.uint8)\n",
    "\n",
    "#Conversión a escala de grises\n",
    "photogray=mahotas.colors.rgb2gray(photo)\n",
    "photogray=photogray.astype(np.uint8)\n",
    "\n",
    "imshow(img)\n",
    "show()\n",
    "gray()\n",
    "imshow(photogray)\n",
    "show()\n",
    "\n",
    "print(photogray)"
   ]
  },
  {
   "cell_type": "code",
   "execution_count": null,
   "metadata": {},
   "outputs": [],
   "source": [
    "#Thresholding\n",
    "\n",
    "T_otsu = mahotas.otsu(photogray)\n",
    "print(T_otsu)\n",
    "imshow(photogray > T_otsu)\n",
    "show()"
   ]
  },
  {
   "cell_type": "code",
   "execution_count": null,
   "metadata": {},
   "outputs": [],
   "source": [
    "#Una opción es el método Riddler-Calvard:\n",
    "\n",
    "T_rc = mahotas.rc(photogray)\n",
    "print(T_rc)\n",
    "imshow(photogray > T_rc)\n",
    "show()"
   ]
  },
  {
   "cell_type": "code",
   "execution_count": null,
   "metadata": {},
   "outputs": [],
   "source": []
  }
 ],
 "metadata": {
  "kernelspec": {
   "display_name": "Python 3",
   "language": "python",
   "name": "python3"
  },
  "language_info": {
   "codemirror_mode": {
    "name": "ipython",
    "version": 3
   },
   "file_extension": ".py",
   "mimetype": "text/x-python",
   "name": "python",
   "nbconvert_exporter": "python",
   "pygments_lexer": "ipython3",
   "version": "3.9.4"
  }
 },
 "nbformat": 4,
 "nbformat_minor": 4
}
