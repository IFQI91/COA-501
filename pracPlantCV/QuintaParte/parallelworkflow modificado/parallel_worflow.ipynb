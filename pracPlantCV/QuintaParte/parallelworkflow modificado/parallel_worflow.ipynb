{
 "cells": [
  {
   "cell_type": "code",
   "execution_count": 1,
   "metadata": {},
   "outputs": [
    {
     "name": "stderr",
     "output_type": "stream",
     "text": [
      "C:\\Users\\semex_7vulq7b\\Documents\\progpython\\lib\\site-packages\\dask_jobqueue\\core.py:20: FutureWarning: tmpfile is deprecated and will be removed in a future release. Please use dask.utils.tmpfile instead.\n"
     ]
    }
   ],
   "source": [
    "# importar plantcv.parallel\n",
    "import plantcv.parallel\n",
    "\n",
    "# Create a WorkflowConfig instance\n",
    "config = plantcv.parallel.WorkflowConfig()\n",
    "\n",
    "#if you want to reuse a configuration file you can import it after creating an instance\n",
    "#config.import_config(config_file=\"my_config.json\")\n",
    "\n",
    "# Change configuration values directly in Python as needed. At a minimum you must specify input_dir, json, filename_metadata, workflow.\n",
    "#archivo de entrada de las imagenes\n",
    "config.input_dir = \"./my_images\"\n",
    "#formato de las imagenes\n",
    "config.imgformat = \"jpg\"\n",
    "\n",
    "config.json = \"output.json\"\n",
    "config.filename_metadata = [\"id\"]\n",
    "#colocar el nombre del archivo que se genero para el flujo\n",
    "config.workflow = \"bayes-classifier-workflow.py\"\n",
    "#entra como otros agrumentos\n",
    "config.other_args=\"—-pdfs resulted-multiclass-pdfs.txt\"\n",
    "\n",
    "# Check for errors\n",
    "config.validate_config()\n",
    "\n",
    "# If it passes, save your configuration\n",
    "config.save_config(config_file=\"my_config.json\")"
   ]
  },
  {
   "cell_type": "code",
   "execution_count": null,
   "metadata": {},
   "outputs": [],
   "source": []
  }
 ],
 "metadata": {
  "kernelspec": {
   "display_name": "Python 3 (ipykernel)",
   "language": "python",
   "name": "python3"
  },
  "language_info": {
   "codemirror_mode": {
    "name": "ipython",
    "version": 3
   },
   "file_extension": ".py",
   "mimetype": "text/x-python",
   "name": "python",
   "nbconvert_exporter": "python",
   "pygments_lexer": "ipython3",
   "version": "3.9.9"
  }
 },
 "nbformat": 4,
 "nbformat_minor": 4
}
