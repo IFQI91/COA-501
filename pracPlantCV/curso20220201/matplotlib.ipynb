{
 "cells": [
  {
   "cell_type": "markdown",
   "metadata": {},
   "source": [
    "# MATPLOTLIB\n",
    "\n",
    "Matplotlib es una libreria para crear visualizaciones estáticas, animadas e interactivas."
   ]
  },
  {
   "cell_type": "code",
   "execution_count": null,
   "metadata": {},
   "outputs": [],
   "source": [
    "#Importar las liberías\n",
    "import matplotlib.pyplot as plt\n",
    "import numpy as np"
   ]
  },
  {
   "cell_type": "code",
   "execution_count": null,
   "metadata": {},
   "outputs": [],
   "source": [
    "#Una gráfica simple\n",
    "fig, ax= plt.subplots() #Crea una figura que contiene un solo eje\n",
    "ax.plot([1,2,3,4],[1,4,2,3]) #Grafica los datos en los ejes"
   ]
  },
  {
   "cell_type": "code",
   "execution_count": null,
   "metadata": {},
   "outputs": [],
   "source": [
    "#También puede ser:\n",
    "plt.plot([1,2,3,4], [1,4,2,3]) #Matplotlib plot."
   ]
  },
  {
   "cell_type": "code",
   "execution_count": null,
   "metadata": {},
   "outputs": [],
   "source": [
    "#Otro ejemplo\n",
    "\n",
    "x= np.linspace(0,2,100) #Datos de muestra.\n",
    "\n",
    "#Note que aún con el uso de orientado a objetos, se usa .pyplot.figure para crear la figura.\n",
    "fig, ax=plt.subplots() #Crea una figura y un eje\n",
    "ax.plot(x,x,label='linear') #Grafica algunos datos en los ejes\n",
    "ax.plot(x, x**2, label='cuadrática') #Grafica más datos en los ejes\n",
    "ax.plot(x, x**3, label='cúbica') # y más datos en los ejes\n",
    "ax.set_xlabel('etiqueta x') #Añade una etiqueta x a los ejes\n",
    "ax.set_ylabel('etiqueta y') #Añade una etiqueta y a los ejes\n",
    "ax.legend() #Añade la leyenda"
   ]
  },
  {
   "cell_type": "markdown",
   "metadata": {},
   "source": [
    "# IMÁGENES\n",
    "\n",
    "Tutorial breve para graficar imágenes en Matplotlib"
   ]
  },
  {
   "cell_type": "code",
   "execution_count": null,
   "metadata": {},
   "outputs": [],
   "source": [
    "#Se incluye el siguiente comando en Jupyter notebook para que las imágenes aparezcan en la libreta:\n",
    "\n",
    "%matplotlib inline"
   ]
  },
  {
   "cell_type": "code",
   "execution_count": null,
   "metadata": {},
   "outputs": [],
   "source": [
    "#Importación de librerías\n",
    "\n",
    "import matplotlib.pyplot as plt\n",
    "import matplotlib.image as mpimg"
   ]
  },
  {
   "cell_type": "code",
   "execution_count": null,
   "metadata": {},
   "outputs": [],
   "source": [
    "#Matplotlib confía en la librería Pillow para cargar datos de imágenes.\n",
    "\n",
    "img = mpimg.imread('./hoja.png')\n",
    "print(img)"
   ]
  },
  {
   "cell_type": "markdown",
   "metadata": {},
   "source": [
    "Matplotlib reescala los datos de 8 bits de cada canal a floating pont entre 0.0 a 1.0. Como nota, Pillow solo\n",
    "opera con el datatype uint8.\n",
    "Matplotlib puede graficar float32 y uint8, pero la lectura/escritura de cualquier formato diferente a PNG se\n",
    "limita a uint8. ¿Por que 8 bits? La mayoría de los equipos que presentan imágenes solo pueden presentar 8 bits\n",
    "por canal en graduación de color, y esto es porque es cerca de lo que el ojo humano puede ver.\n",
    "\n",
    "Cada lista interior representa un píxel. Aquí con una imagen RGB, hay 3 valores. Una imagen RGBA (donde A es\n",
    " alfa o transparencia) se tienen cuatro valores por lista interna."
   ]
  },
  {
   "cell_type": "markdown",
   "metadata": {},
   "source": [
    "# GRAFICADO DE MATRICES NUMPY COMO IMÁGENES\n",
    "\n",
    "Cuando los datos están en una matriz numpy se requiere renderizar o crear una imagen. "
   ]
  },
  {
   "cell_type": "code",
   "execution_count": null,
   "metadata": {},
   "outputs": [],
   "source": [
    "imgplot=plt.imshow(img)"
   ]
  },
  {
   "cell_type": "code",
   "execution_count": null,
   "metadata": {
    "scrolled": true
   },
   "outputs": [],
   "source": [
    "#Seleccón de capas y\n",
    "\n",
    "R=img[0:400,0:500,0]\n",
    "plt.imshow(R)"
   ]
  },
  {
   "cell_type": "code",
   "execution_count": null,
   "metadata": {},
   "outputs": [],
   "source": [
    "#Se aplica el colormap default\n",
    "\n",
    "plt.imshow(R, cmap=\"hot\")"
   ]
  },
  {
   "cell_type": "code",
   "execution_count": null,
   "metadata": {},
   "outputs": [],
   "source": [
    "imgplot=plt.imshow(R)\n",
    "imgplot.set_cmap('nipy_spectral')"
   ]
  },
  {
   "cell_type": "code",
   "execution_count": null,
   "metadata": {},
   "outputs": [],
   "source": [
    "#Escala de referencia de color\n",
    "imgplot=plt.imshow(R)\n",
    "plt.colorbar()"
   ]
  },
  {
   "cell_type": "code",
   "execution_count": null,
   "metadata": {},
   "outputs": [],
   "source": [
    "#Análisis de un rango específico de datos\n",
    "plt.hist(R.ravel(), bins=256, range=(0.0, 1.0), fc='k', ec='k')"
   ]
  },
  {
   "cell_type": "code",
   "execution_count": null,
   "metadata": {},
   "outputs": [],
   "source": [
    "imgplot=plt.imshow(R, clim=(0.8,0.9))"
   ]
  },
  {
   "cell_type": "code",
   "execution_count": null,
   "metadata": {},
   "outputs": [],
   "source": [
    "#Se puede usar el objeto obtenido:\n",
    "fig = plt.figure()\n",
    "ax = fig.add_subplot(1, 2, 1)\n",
    "imgplot = plt.imshow(R)\n",
    "ax.set_title('Before')\n",
    "plt.colorbar(ticks=[0.1, 0.3, 0.5, 0.7], orientation='horizontal')\n",
    "ax = fig.add_subplot(1, 2, 2)\n",
    "imgplot = plt.imshow(R)\n",
    "imgplot.set_clim(0.8, 0.9)\n",
    "ax.set_title('After')\n",
    "plt.colorbar(ticks=[0.1, 0.3, 0.5, 0.7,0.9], orientation='horizontal')"
   ]
  },
  {
   "cell_type": "code",
   "execution_count": null,
   "metadata": {},
   "outputs": [],
   "source": [
    "#Interpolación de matrices\n",
    "from PIL import Image\n",
    "img=Image.open('./hoja.png')\n",
    "img.thumbnail((64,64), Image.ANTIALIAS) #Redimensiona la imagen en el lugar\n",
    "imgplot=plt.imshow(img)\n",
    "\n",
    "#NOTA: Se usó la interpolación bilinear debido a que no se le dio a imshow() ningún argumento de interpolación"
   ]
  },
  {
   "cell_type": "code",
   "execution_count": null,
   "metadata": {},
   "outputs": [],
   "source": [
    "#'nearest' que no hace interpolación\n",
    "\n",
    "imgplot=plt.imshow(img, interpolation=\"nearest\")"
   ]
  },
  {
   "cell_type": "code",
   "execution_count": null,
   "metadata": {
    "scrolled": true
   },
   "outputs": [],
   "source": [
    "#Bicúbica\n",
    "\n",
    "imgplot=plt.imshow(img, interpolation=\"bicubic\")"
   ]
  },
  {
   "cell_type": "code",
   "execution_count": null,
   "metadata": {},
   "outputs": [],
   "source": []
  }
 ],
 "metadata": {
  "kernelspec": {
   "display_name": "Python 3",
   "language": "python",
   "name": "python3"
  },
  "language_info": {
   "codemirror_mode": {
    "name": "ipython",
    "version": 3
   },
   "file_extension": ".py",
   "mimetype": "text/x-python",
   "name": "python",
   "nbconvert_exporter": "python",
   "pygments_lexer": "ipython3",
   "version": "3.9.4"
  }
 },
 "nbformat": 4,
 "nbformat_minor": 4
}
