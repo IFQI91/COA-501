{
 "cells": [
  {
   "cell_type": "markdown",
   "metadata": {},
   "source": [
    "Morphology Tutorial\n",
    "Morphology sub-package functions can be used with a clean mask of a plant (see VIS tutorial for examples of masking background. This tutorial will start with a binary mask (after object segmentation has been completed) but in a complete workflow users will need to use other functions to achieve plant isolation. Skeletonizing is very sensitive to any pepper noise remaining within a binary mask. Morphology functions are intended to be one type of object analysis. These functions can potentially return information about leaf length, leaf angle, and leaf curvature."
   ]
  },
  {
   "cell_type": "code",
   "execution_count": null,
   "metadata": {},
   "outputs": [],
   "source": [
    "# Import libraries\n",
    "from plantcv import plantcv as pcv \n",
    "import pandas as pd\n"
   ]
  },
  {
   "cell_type": "code",
   "execution_count": null,
   "metadata": {},
   "outputs": [],
   "source": [
    "class options:\n",
    "    def __init__(self):\n",
    "        self.image = \"plantula.png\"\n",
    "        self.debug = \"plot\"\n",
    "        self.writeimg= True \n",
    "        self.result = \"morphology_results.txt\"\n",
    "        self.outdir = \"./\"\n",
    "\n",
    "# Get options\n",
    "args = options()\n",
    "\n",
    "# Set debug to the global parameter \n",
    "pcv.params.debug = args.debug\n",
    "\n"
   ]
  },
  {
   "cell_type": "code",
   "execution_count": null,
   "metadata": {
    "scrolled": false
   },
   "outputs": [],
   "source": [
    "# Read image (sometimes you need to run this line twice to see the image) \n",
    "\n",
    "# Inputs:\n",
    "#   filename - Image file to be read in \n",
    "#   mode - How to read in the image; either 'native' (default), 'rgb', 'gray', or 'csv'\n",
    "img, path, filename = pcv.readimage(filename=args.image)\n",
    "\n",
    "\n",
    "# Create masked image from a color image based RGB color-space and threshold values. \n",
    "# for lower and upper_thresh list as: thresh = [red_thresh, green_thresh, blue_thresh]\n",
    "\n",
    "#mask, masked_img = pcv.threshold.custom_range(img=img, lower_thresh=[5,5,5], upper_thresh=[230,230,230], channel='RGB')\n",
    "\n",
    "\n",
    "# Create masked image from a color image based HSV color-space and threshold values. \n",
    "# for lower and upper_thresh list as: thresh = [hue_thresh, saturation_thresh, value_thresh]\n",
    "\n",
    "#mask, masked_img = pcv.threshold.custom_range(img=img, lower_thresh=[30,65,20], upper_thresh=[70,255,220], channel='HSV')\n",
    "\n",
    "\n",
    "# Create masked image from a color image based LAB color-space and threshold values.\n",
    "# for lower and upper_thresh list as: thresh = [L_thresh, A_thresh, B_thresh]\n",
    "#mask, masked_img = pcv.threshold.custom_range(img=img, lower_thresh=[0,0,158], upper_thresh=[255,255,255], channel='LAB')\n",
    "\n",
    "\n",
    "# Create masked image based grayscale color-space and threshold values. \n",
    "# Note that a grayscale image is used. pcv.threshold.custom_range works with both RGB and gray input images. \n",
    "#mask, masked_img = pcv.threshold.custom_range(img=gray_img, lower_thresh=[39], upper_thresh=[100], channel='gray')\n",
    "\n",
    "\n",
    "\n",
    "\n",
    "# Crop the mask \n",
    "#cropped_mask = mask[220:600, 100:510]\n",
    "\n"
   ]
  },
  {
   "cell_type": "code",
   "execution_count": null,
   "metadata": {
    "scrolled": false
   },
   "outputs": [],
   "source": [
    "# Convert RGB to HSV and extract the saturation channel\n",
    "\n",
    "# Inputs:\n",
    "#   rgb_image - RGB image data \n",
    "#   channel - Split by 'h' (hue), 's' (saturation), or 'v' (value) channel\n",
    "b = pcv.rgb2gray_lab(rgb_img=img, channel='b')"
   ]
  },
  {
   "cell_type": "code",
   "execution_count": null,
   "metadata": {},
   "outputs": [],
   "source": [
    "# Crop the mask \n",
    "cropped_b = b[0:340,:]\n",
    "\n"
   ]
  },
  {
   "cell_type": "code",
   "execution_count": null,
   "metadata": {
    "scrolled": true
   },
   "outputs": [],
   "source": [
    "# Threshold the blue channel image \n",
    "b_thresh = pcv.threshold.binary(gray_img=cropped_b, threshold=135, max_value=255, \n",
    "                                object_type='light')"
   ]
  },
  {
   "cell_type": "code",
   "execution_count": null,
   "metadata": {},
   "outputs": [],
   "source": [
    "#Aplicación de la dilación con un elemento estructurante de 5 x 5 para aumetar el tamaño\n",
    "# de los objetos. Puede ser usado para eliminar pequeños orificios en la imagen\n",
    "\n",
    "imgdilation=pcv.dilate(gray_img=b_thresh, ksize=5, i=1)"
   ]
  },
  {
   "cell_type": "code",
   "execution_count": null,
   "metadata": {},
   "outputs": [],
   "source": [
    "#Aplicación de erosión con un elemento estructurante de 5 x 5 para reducir el tamaño \n",
    "#de los objetos y eliminar objetos en la imagen de tamaño pequeño. \n",
    "\n",
    "imgerosion=pcv.erode(gray_img=imgdilation, ksize=5, i=1)"
   ]
  },
  {
   "cell_type": "code",
   "execution_count": null,
   "metadata": {
    "scrolled": true
   },
   "outputs": [],
   "source": [
    "# Skeletonize the mask \n",
    "%matplotlib notebook\n",
    "\n",
    "\n",
    "# Apply fill holes to a binary image \n",
    "\n",
    "#fill_image = pcv.fill_holes(bin_img=cropped_mask)\n",
    "\n",
    "# Apply gaussian blur to a binary image that has been previously thresholded.\n",
    "#gaussian_img = pcv.gaussian_blur(img=fill_image, ksize=(51, 51), sigma_x=0, sigma_y=None)\n",
    "#gaussian_img = pcv.gaussian_blur(img=fill_image, ksize=(31, 31), sigma_x=0, sigma_y=None)\n",
    "\n",
    "\n",
    "\n",
    "# Results in addition of pixels to the boundary of object\n",
    "#dilate_img = pcv.dilate(gray_img=gaussian_img, ksize=9, i=1)\n",
    "\n",
    "\n",
    "# Results in removal of isolated pixels or boundary of object removal\n",
    "#er_img = pcv.erode(gray_img=dilate_img, ksize=9, i=1)\n",
    "#cropped_mask=er_img\n",
    "\n",
    "# To enable the zoom feature to better see fine lines, uncomment the line above ^^ \n",
    "\n",
    "# Inputs:\n",
    "#   mask = Binary image data\n",
    "skeleton=pcv.morphology.skeletonize(mask=imgerosion)\n",
    "#skeleton = pcv.morphology.skeletonize(mask=cropped_mask)\n",
    "\n"
   ]
  },
  {
   "cell_type": "code",
   "execution_count": null,
   "metadata": {
    "scrolled": true
   },
   "outputs": [],
   "source": [
    "# Prune the skeleton  \n",
    "# Generally, skeletonized images will have barbs (this image is particularly ideal, \n",
    "# that's why it's the example image in the tutorial!), \n",
    "# representing the width, that need to get pruned off. \n",
    "\n",
    "# Inputs:\n",
    "#   skel_img = Skeletonized image\n",
    "#   size     = Size to get pruned off each branch\n",
    "#   mask     = (Optional) binary mask for debugging. If provided, debug image will be overlaid on the mask.\n",
    "img1, seg_img, edge_objects = pcv.morphology.prune(skel_img=skeleton, size=100, mask=imgerosion)\n",
    "\n"
   ]
  },
  {
   "cell_type": "code",
   "execution_count": null,
   "metadata": {},
   "outputs": [],
   "source": [
    "# Fill in segments (also stores out area data)  \n",
    "\n",
    "# Inputs:\n",
    "# mask         = Binary image, single channel, object = 1 and background = 0\n",
    "# objects      = List of contours\n",
    "# label        = Optional label parameter, modifies the variable name of observations recorded. (default `label=\"default\"`)filled_img = pcv.morphology.fill_segments(mask=cropped_mask, objects=edge_objects)\n",
    "\n",
    "filled_img = pcv.morphology.fill_segments(mask=imgerosion, objects=edge_objects)\n",
    "\n"
   ]
  },
  {
   "cell_type": "code",
   "execution_count": null,
   "metadata": {},
   "outputs": [],
   "source": [
    "# Identify branch points   \n",
    "\n",
    "# Inputs:\n",
    "#   skel_img = Skeletonized image\n",
    "#   mask     = (Optional) binary mask for debugging. If provided, debug image will be overlaid on the mask.\n",
    "# label      = Optional label parameter, modifies the variable name of observations recorded. (default `label=\"default\"`)filled_img = pcv.morphology.fill_segments(mask=cropped_mask, objects=edge_objects)\n",
    "\n",
    "branch_pts_mask = pcv.morphology.find_branch_pts(skel_img=img1, mask=imgerosion)\n",
    "\n"
   ]
  },
  {
   "cell_type": "code",
   "execution_count": null,
   "metadata": {
    "scrolled": false
   },
   "outputs": [],
   "source": [
    "# Identify tip points   \n",
    "\n",
    "# Inputs:\n",
    "#   skel_img = Skeletonized image\n",
    "#   mask     = (Optional) binary mask for debugging. If provided, debug \n",
    "#              image will be overlaid on the mask\n",
    "# label      = Optional label parameter, modifies the variable name of observations recorded. (default `label=\"default\"`)filled_img = pcv.morphology.fill_segments(mask=cropped_mask, objects=edge_objects)\n",
    "\n",
    "tip_pts_mask = pcv.morphology.find_tips(skel_img=img1, mask=None)\n",
    "\n"
   ]
  },
  {
   "cell_type": "code",
   "execution_count": null,
   "metadata": {},
   "outputs": [],
   "source": [
    "# Adjust line thickness with the global line thickness parameter (default = 5),\n",
    "# and provide binary mask of the plant for debugging. NOTE: the objects and\n",
    "# hierarchies returned will be exactly the same but the debugging image (segmented_img)\n",
    "# will look different.\n",
    "pcv.params.line_thickness = 3 \n",
    "\n"
   ]
  },
  {
   "cell_type": "code",
   "execution_count": null,
   "metadata": {},
   "outputs": [],
   "source": [
    "# Sort segments into primary (stem) objects and secondary (leaf) objects. \n",
    "# Downstream steps can be performed on just one class of objects at a time, \n",
    "# or all objects (output from segment_skeleton) \n",
    "  \n",
    "# Inputs:\n",
    "#   skel_img  = Skeletonized image\n",
    "#   objects   = List of contours\n",
    "#   mask      = (Optional) binary mask for debugging. If provided, debug image will be overlaid on the mask.\n",
    "leaf_obj, stem_obj = pcv.morphology.segment_sort(skel_img=img1, \n",
    "                                                 objects=edge_objects,\n",
    "                                                 mask=imgerosion)\n",
    "\n"
   ]
  },
  {
   "cell_type": "code",
   "execution_count": null,
   "metadata": {},
   "outputs": [],
   "source": [
    "# Identify segments     \n",
    "\n",
    "# Inputs:\n",
    "#   skel_img  = Skeletonized image\n",
    "#   objects   = List of contours\n",
    "#   mask      = (Optional) binary mask for debugging. If provided, \n",
    "#               debug image will be overlaid on the mask.\n",
    "segmented_img, labeled_img = pcv.morphology.segment_id(skel_img=img1,\n",
    "                                                       objects=leaf_obj,\n",
    "                                                       mask=imgerosion)\n",
    "\n"
   ]
  },
  {
   "cell_type": "code",
   "execution_count": null,
   "metadata": {},
   "outputs": [],
   "source": [
    "# Similar to line thickness, there are optional text size and text thickness parameters \n",
    "# that can be adjusted to better suit images or varying sizes.\n",
    "pcv.params.text_size=.8 # (default text_size=.55)\n",
    "pcv.params.text_thickness=3 # (defaul text_thickness=2) \n",
    "\n",
    "segmented_img, labeled_img = pcv.morphology.segment_id(skel_img=img1,\n",
    "                                                       objects=leaf_obj,\n",
    "                                                       mask=imgerosion)\n",
    "\n"
   ]
  },
  {
   "cell_type": "code",
   "execution_count": null,
   "metadata": {
    "scrolled": false
   },
   "outputs": [],
   "source": [
    "# Measure path lengths of segments     \n",
    "\n",
    "# Inputs:\n",
    "#   segmented_img = Segmented image to plot lengths on\n",
    "#   objects       = List of contours\n",
    "# label           = Optional label parameter, modifies the variable name of observations recorded. (default `label=\"default\"`)filled_img = pcv.morphology.fill_segments(mask=cropped_mask, objects=edge_objects)\n",
    "\n",
    "labeled_img  = pcv.morphology.segment_path_length(segmented_img=segmented_img, \n",
    "                                                  objects=leaf_obj)\n",
    "\n"
   ]
  },
  {
   "cell_type": "code",
   "execution_count": null,
   "metadata": {},
   "outputs": [],
   "source": [
    "# Measure euclidean distance of segments      \n",
    "\n",
    "# Inputs:\n",
    "#   segmented_img = Segmented image to plot lengths on\n",
    "#   objects       = List of contours\n",
    "#   label         = Optional label parameter, modifies the variable name of observations recorded. (default `label=\"default\"`)filled_img = pcv.morphology.fill_segments(mask=cropped_mask, objects=edge_objects)\n",
    "\n",
    "labeled_img = pcv.morphology.segment_euclidean_length(segmented_img=segmented_img, \n",
    "                                                      objects=leaf_obj)\n",
    "\n"
   ]
  },
  {
   "cell_type": "code",
   "execution_count": null,
   "metadata": {},
   "outputs": [],
   "source": [
    "# Measure curvature of segments      \n",
    "\n",
    "# Inputs:\n",
    "#   segmented_img = Segmented image to plot curvature on\n",
    "#   objects       = List of contours\n",
    "#   label         = Optional label parameter, modifies the variable name of observations recorded. (default `label=\"default\"`)filled_img = pcv.morphology.fill_segments(mask=cropped_mask, objects=edge_objects)\n",
    "\n",
    "labeled_img = pcv.morphology.segment_curvature(segmented_img=segmented_img, \n",
    "                                               objects=leaf_obj)\n",
    "\n"
   ]
  },
  {
   "cell_type": "code",
   "execution_count": null,
   "metadata": {},
   "outputs": [],
   "source": [
    "# Measure the angle of segments      \n",
    "\n",
    "# Inputs:\n",
    "#   segmented_img = Segmented image to plot angles on\n",
    "#   objects       = List of contours\n",
    "#   label         = Optional label parameter, modifies the variable name of observations recorded. (default `label=\"default\"`)filled_img = pcv.morphology.fill_segments(mask=cropped_mask, objects=edge_objects)\n",
    "\n",
    "labeled_img = pcv.morphology.segment_angle(segmented_img=segmented_img, \n",
    "                                           objects=leaf_obj)\n",
    "\n"
   ]
  },
  {
   "cell_type": "code",
   "execution_count": null,
   "metadata": {
    "scrolled": true
   },
   "outputs": [],
   "source": [
    "# Measure the tangent angles of segments      \n",
    "\n",
    "# Inputs:\n",
    "#   segmented_img = Segmented image to plot tangent angles on\n",
    "#   objects       = List of contours\n",
    "#   size          = Size of ends used to calculate \"tangent\" lines\n",
    "#   label         = Optional label parameter, modifies the variable name of observations recorded. (default `label=\"default\"`)filled_img = pcv.morphology.fill_segments(mask=cropped_mask, objects=edge_objects)\n",
    "\n",
    "labeled_img = pcv.morphology.segment_tangent_angle(segmented_img=segmented_img, \n",
    "                                                   objects=leaf_obj, size=15)\n"
   ]
  },
  {
   "cell_type": "code",
   "execution_count": null,
   "metadata": {},
   "outputs": [],
   "source": [
    "# Measure the leaf insertion angles      \n",
    "\n",
    "# Inputs:\n",
    "#   skel_img         = Skeletonize image \n",
    "#   segmented_img    = Segmented image to plot insertion angles on\n",
    "#   leaf_objects     = List of leaf contours\n",
    "#   stem_objects     = List of stem objects \n",
    "#   size             = Size of the inner portion of each leaf to find a linear regression line\n",
    "#   label            = Optional label parameter, modifies the variable name of observations recorded. (default `label=\"default\"`)filled_img = pcv.morphology.fill_segments(mask=cropped_mask, objects=edge_objects)\n",
    "\n",
    "labeled_img = pcv.morphology.segment_insertion_angle(skel_img=img1,\n",
    "                                                     segmented_img=segmented_img, \n",
    "                                                     leaf_objects=leaf_obj, \n",
    "                                                     stem_objects=stem_obj,\n",
    "                                                     size=10)\n",
    "\n"
   ]
  },
  {
   "cell_type": "code",
   "execution_count": null,
   "metadata": {},
   "outputs": [],
   "source": [
    "# Write morphological data to results file\n",
    "\n",
    "# The print_results function will take the measurements stored when running any (or all) of these functions, format, \n",
    "# and print an output text file for data analysis. The Outputs class stores data whenever any of the following functions\n",
    "# are ran: analyze_bound_horizontal, analyze_bound_vertical, analyze_color, analyze_nir_intensity, analyze_object, \n",
    "# fluor_fvfm, report_size_marker_area, watershed. If no functions have been run, it will print an empty text file \n",
    "pcv.print_results(filename=args.result)\n",
    "\n"
   ]
  },
  {
   "cell_type": "code",
   "execution_count": null,
   "metadata": {},
   "outputs": [],
   "source": [
    "    #Se usa la función 'read_json' para leer el archivo json y guardarlo como csv\n",
    "    #De esta forma se puede abrir en excel\n",
    "df = pd.read_json (r'./' + args.result)\n",
    "df.to_csv (r'./' + 'resulted-multiclass' +  '.csv', index = None,header=True)\n",
    "\n",
    "    #Con este procedimiento se convierte un archivo 'json' en archivo 'csv'\n",
    "    #En excel, en la pestaña de datos, seleccionar obtener datos externos, y seleccionar\n",
    "    #la opción desde texto. Ahi seleccionar el archivo *.csv para importar a excel. Seleccionar\n",
    "    # la opción delimitados, siguiente, y seleccionar la opción delimitadores: coma\n",
    "    # y seleccionar finalizar.\n",
    "\n",
    "    #Después seleccionar las celdas con el texto, y en la pestaña datos, seleccionar\n",
    "    # texto en columnas, seleccionar delimitados, seleccionar delimitadores 'coma' y \n",
    "    # y en 'otro' escribir ':'. Después seleccionar siguiente, y finalizar.\n",
    "\n",
    "\n"
   ]
  }
 ],
 "metadata": {
  "kernelspec": {
   "display_name": "Python 3",
   "language": "python",
   "name": "python3"
  },
  "language_info": {
   "codemirror_mode": {
    "name": "ipython",
    "version": 3
   },
   "file_extension": ".py",
   "mimetype": "text/x-python",
   "name": "python",
   "nbconvert_exporter": "python",
   "pygments_lexer": "ipython3",
   "version": "3.9.4"
  }
 },
 "nbformat": 4,
 "nbformat_minor": 4
}
