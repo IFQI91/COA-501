{
 "cells": [
  {
   "cell_type": "markdown",
   "metadata": {},
   "source": [
    "# PANDAS \n",
    "\n",
    "Pandas es un programa para análisis y manejo de datos."
   ]
  },
  {
   "cell_type": "code",
   "execution_count": null,
   "metadata": {},
   "outputs": [],
   "source": [
    "#Importar librerías\n",
    "\n",
    "import numpy as np\n",
    "import pandas as pd"
   ]
  },
  {
   "cell_type": "code",
   "execution_count": null,
   "metadata": {},
   "outputs": [],
   "source": [
    "#Creación de objetos\n",
    "s = pd.Series([1, 3, 5, np.nan, 6, 8])\n",
    "\n",
    "#Presentar lo que contiene el objeto\n",
    "s"
   ]
  },
  {
   "cell_type": "code",
   "execution_count": null,
   "metadata": {},
   "outputs": [],
   "source": [
    "#Creación de una estructura de fechas simple\n",
    "\n",
    "fechas = pd.date_range(\"20220101\", periods=6)\n",
    "\n",
    "#Presenta la estructura de fechas\n",
    "fechas\n",
    "\n"
   ]
  },
  {
   "cell_type": "code",
   "execution_count": null,
   "metadata": {
    "scrolled": true
   },
   "outputs": [],
   "source": [
    "#Creación de un cuadro con fechas y valores aleatorios en las columnas A, B, C, y D\n",
    "fechas2 = pd.DataFrame(np.random.randn(6, 4), index=fechas, columns=list(\"ABCD\"))\n",
    "\n",
    "#Presenta el cuadro resultante\n",
    "fechas2\n",
    "\n",
    "\n",
    "#Como ejercicio vuelva a ejecutar la celda y observe los resultados"
   ]
  },
  {
   "cell_type": "code",
   "execution_count": null,
   "metadata": {},
   "outputs": [],
   "source": [
    "#Creación de una estructura de datos pasando un objeto Dict (Diccionario) que puede convertirse en\n",
    "#algo parecido a una serie.\n",
    "fechas3 = pd.DataFrame(\n",
    "        {\n",
    "            \"A\": 1.0,\n",
    "            \"B\": pd.Timestamp(\"20220102\"),\n",
    "            \"C\": pd.Series(1, index=list(range(4)), dtype=\"float32\"),\n",
    "            \"D\": np.array([3] * 4, dtype=\"int32\"),\n",
    "            \"E\": pd.Categorical([\"test\", \"train\", \"test\", \"train\"]),\n",
    "            \"F\": \"foo\",\n",
    "        }\n",
    "    )\n",
    " \n",
    "        \n",
    "fechas3"
   ]
  },
  {
   "cell_type": "code",
   "execution_count": null,
   "metadata": {
    "scrolled": true
   },
   "outputs": [],
   "source": [
    "# Las columnas de la estructura tienen diferentes tipos de datos\n",
    "\n",
    "fechas3.dtypes"
   ]
  },
  {
   "cell_type": "markdown",
   "metadata": {},
   "source": [
    "#REVISANDO DATOS\n",
    "\n",
    "Aquí se muestra como ver las hileras superiores e inferiores de una estructura:"
   ]
  },
  {
   "cell_type": "code",
   "execution_count": null,
   "metadata": {},
   "outputs": [],
   "source": [
    "fechas2.head()"
   ]
  },
  {
   "cell_type": "code",
   "execution_count": null,
   "metadata": {},
   "outputs": [],
   "source": [
    "fechas2.tail(3)"
   ]
  },
  {
   "cell_type": "code",
   "execution_count": null,
   "metadata": {},
   "outputs": [],
   "source": [
    "#Despliegue del índice, columnas:\n",
    "\n",
    "fechas2.index"
   ]
  },
  {
   "cell_type": "code",
   "execution_count": null,
   "metadata": {},
   "outputs": [],
   "source": [
    "fechas2.columns"
   ]
  },
  {
   "cell_type": "code",
   "execution_count": null,
   "metadata": {},
   "outputs": [],
   "source": [
    "#DataFrame.to_numpy() provee de una representación NumPy de los datos. Observe que esto puede ser costoso cuando su\n",
    "#Dataframe tiene columnas de diferentes tipos. Esto es fundamentalmente diferente entre pandas y NumPy:\n",
    "#Las matrices en NumPy tienen un dtype para toda la matriz, mientras DataFrame de pandas tiene un dtype por columna.\n",
    "#Cuando se llama DataFrame.to_numpy(), pandas encuentra el dtype que pueda contener todos los dtypes del DataFrame.\n",
    "#Esto podría generar mas bien un objeto, el cual requiere presententar cada valor de un objeto de Python.En el ejemplo,\n",
    "#los valores son del tipo floating-point, entonces la función para realizar la conversión se ejecuta rápidamente\n",
    "# y no requiere copiar datos.\n",
    "\n",
    "fechas2.to_numpy()\n"
   ]
  },
  {
   "cell_type": "code",
   "execution_count": null,
   "metadata": {},
   "outputs": [],
   "source": [
    "#La conversión de fechas3 que tiene múltiples dtypes con el comando DataFrame.to_numpy() es relativamente costoso.\n",
    "fechas3.to_numpy()\n",
    "\n",
    "#Nota: Observe que DataFrame.to_numpy() no incluye los índices o etiquetas de las columnas en la salida."
   ]
  },
  {
   "cell_type": "code",
   "execution_count": null,
   "metadata": {
    "scrolled": true
   },
   "outputs": [],
   "source": [
    "#Describe() muestra un resumen de las estadísticas de los datos\n",
    "fechas2.describe()"
   ]
  },
  {
   "cell_type": "code",
   "execution_count": null,
   "metadata": {},
   "outputs": [],
   "source": [
    "#Para transponer datos:\n",
    "fechas2.T"
   ]
  },
  {
   "cell_type": "code",
   "execution_count": null,
   "metadata": {},
   "outputs": [],
   "source": [
    "#Ordenar en un eje\n",
    "fechas2.sort_index(axis=1, ascending=False)"
   ]
  },
  {
   "cell_type": "code",
   "execution_count": null,
   "metadata": {},
   "outputs": [],
   "source": [
    "#Ordenar por valores\n",
    "fechas2.sort_values(by=\"B\")"
   ]
  },
  {
   "cell_type": "markdown",
   "metadata": {},
   "source": [
    "# OBTENER DATOS"
   ]
  },
  {
   "cell_type": "code",
   "execution_count": null,
   "metadata": {},
   "outputs": [],
   "source": [
    "# Para seleccionar solo una columna, que obtiene una serie, equivalente a fechas2.A:\n",
    "fechas2[\"A\"]"
   ]
  },
  {
   "cell_type": "code",
   "execution_count": null,
   "metadata": {},
   "outputs": [],
   "source": [
    "# Seleccionar vía [], la cual selecciona por hilera.\n",
    "fechas2[0:3]"
   ]
  },
  {
   "cell_type": "code",
   "execution_count": null,
   "metadata": {
    "scrolled": true
   },
   "outputs": [],
   "source": [
    "fechas2[\"20220102\":\"20220104\"]"
   ]
  },
  {
   "cell_type": "markdown",
   "metadata": {},
   "source": [
    "# SELECCION POR ETIQUETA\n"
   ]
  },
  {
   "cell_type": "code",
   "execution_count": null,
   "metadata": {
    "scrolled": true
   },
   "outputs": [],
   "source": [
    "#Para obtener una selección de datos usando etiquetas:\n",
    "fechas2.loc[fechas[0]]"
   ]
  },
  {
   "cell_type": "code",
   "execution_count": null,
   "metadata": {},
   "outputs": [],
   "source": [
    "#Selección multieje por etiqueta:\n",
    "fechas2.loc[:,[\"A\",\"B\"]]"
   ]
  },
  {
   "cell_type": "code",
   "execution_count": null,
   "metadata": {},
   "outputs": [],
   "source": [
    "#Selecciona por etiqueta, en donde se incluyen ambos puntos terminales:\n",
    " \n",
    "fechas2.loc[\"20220102\":\"20220104\", [\"A\",\"B\"]]\n"
   ]
  },
  {
   "cell_type": "code",
   "execution_count": null,
   "metadata": {},
   "outputs": [],
   "source": [
    "#Reducción en las dimensiones del objeto presentado:\n",
    "fechas2.loc[\"20220102\",[\"A\",\"B\"]]"
   ]
  },
  {
   "cell_type": "code",
   "execution_count": null,
   "metadata": {},
   "outputs": [],
   "source": [
    "#Para obtener un valor escalar:\n",
    "fechas2.loc[fechas[0],\"A\"]"
   ]
  },
  {
   "cell_type": "code",
   "execution_count": null,
   "metadata": {},
   "outputs": [],
   "source": [
    "#Para acceder a a un valor escalar (equivalente al método anterior):\n",
    "fechas2.at[fechas[0],\"A\"]"
   ]
  },
  {
   "cell_type": "markdown",
   "metadata": {},
   "source": [
    "# SELECCIÓN POR POSICIÓN\n"
   ]
  },
  {
   "cell_type": "code",
   "execution_count": null,
   "metadata": {},
   "outputs": [],
   "source": [
    "#Seleccionar vía la posición de los enteros anteriores:\n",
    "fechas2.iloc[3]"
   ]
  },
  {
   "cell_type": "code",
   "execution_count": null,
   "metadata": {
    "scrolled": true
   },
   "outputs": [],
   "source": [
    "#Selección de enteros, de forma similar como en NumPY/Python:\n",
    "fechas2.iloc[3:5,0:2]"
   ]
  },
  {
   "cell_type": "markdown",
   "metadata": {},
   "source": [
    "# OTROS TEMAS:\n",
    "\n",
    "- Manejo de datos perdidos\n",
    "- Operaciones estadísticas\n",
    "- Histogramas\n",
    "- Unión de tablas de datos\n",
    "- Agrupamientos\n",
    "- Redimensionamiento de datos\n",
    "- Series de tiempo\n",
    "- Categorías\n",
    "- Graficado\n",
    "- Importación y exportación de datos\n"
   ]
  },
  {
   "cell_type": "code",
   "execution_count": null,
   "metadata": {},
   "outputs": [],
   "source": []
  }
 ],
 "metadata": {
  "kernelspec": {
   "display_name": "Python 3",
   "language": "python",
   "name": "python3"
  },
  "language_info": {
   "codemirror_mode": {
    "name": "ipython",
    "version": 3
   },
   "file_extension": ".py",
   "mimetype": "text/x-python",
   "name": "python",
   "nbconvert_exporter": "python",
   "pygments_lexer": "ipython3",
   "version": "3.9.4"
  }
 },
 "nbformat": 4,
 "nbformat_minor": 4
}
