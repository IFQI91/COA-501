{
 "cells": [
  {
   "cell_type": "markdown",
   "metadata": {},
   "source": [
    "## ELIMINAR FONDO CAFE\n",
    "\n",
    "### Tres métodos:\n",
    "- Aplicación de umbrales en los canales del espacio de color RGB\n",
    "- Aplicación de un umbral en una capa del espacio de color LAB\n",
    "- Aplicación de un umbral en una capa del espacio de color CSV\n"
   ]
  },
  {
   "cell_type": "code",
   "execution_count": null,
   "metadata": {},
   "outputs": [],
   "source": [
    "# Import Libraries \n",
    "from plantcv import plantcv as pcv\n",
    "import matplotlib"
   ]
  },
  {
   "cell_type": "code",
   "execution_count": null,
   "metadata": {},
   "outputs": [],
   "source": [
    "class options:\n",
    "    def __init__(self):\n",
    "        self.image = \"./papa2.jpg\"\n",
    "        self.debug = \"plot\"\n",
    "        self.writeimg= False\n",
    "        self.result = \"vis_tutorial_results.json\"\n",
    "        self.outdir = \".\" # Store the output to the current directory\n",
    "        \n",
    "# Get options\n",
    "args = options()\n",
    "\n",
    "# Set debug to the global parameter \n",
    "pcv.params.debug = args.debug"
   ]
  },
  {
   "cell_type": "code",
   "execution_count": null,
   "metadata": {},
   "outputs": [],
   "source": [
    "# Read image\n",
    "\n",
    "# Inputs:\n",
    "#   filename - Image file to be read in \n",
    "#   mode - How to read in the image; either 'native' (default), 'rgb', 'gray', or 'csv'\n",
    "img, path, filename = pcv.readimage(filename=args.image)"
   ]
  },
  {
   "cell_type": "markdown",
   "metadata": {},
   "source": [
    "Custom Range Threshold\n",
    "\n",
    "Creates a binary image (mask) and a masked image from an RGB or grayscale image based on the user defined threshold values. The threshold color-spaces that can be used are grayscale, RGB, HSV, or LAB.\n",
    "\n",
    "plantcv.threshold.custom_range(img, lower_thresh, upper_thresh, channel='RGB')\n",
    "\n",
    "returns mask, masked_img\n",
    "\n",
    "Parameters:\n",
    "img - RGB image data\n",
    "lower_thresh - List of lower threshold values (0-255)\n",
    "upper_thresh - List of upper threshold values (0-255)\n",
    "channel - Color-space channels of interest (either 'RGB', 'HSV', 'LAB', or 'gray')\n",
    "Context:\n",
    "Used to help differentiate plant and background\n",
    "\n",
    "\n"
   ]
  },
  {
   "cell_type": "code",
   "execution_count": null,
   "metadata": {},
   "outputs": [],
   "source": [
    "# Create masked image from a color image based RGB color-space and threshold values. \n",
    "# for lower and upper_thresh list as: thresh = [red_thresh, green_thresh, blue_thresh]\n",
    "\n",
    "threshold.custom_range(img=, lower_thresh=, upper_thresh=, channel=)"
   ]
  },
  {
   "cell_type": "code",
   "execution_count": null,
   "metadata": {},
   "outputs": [],
   "source": [
    "# Convert RGB to HSV and extract the saturation channel\n",
    "\n",
    "# Inputs:\n",
    "#   rgb_image - RGB image data \n",
    "#   channel - Split by 'h' (hue), 's' (saturation), or 'v' (value) channel\n",
    "#rgb2gray_hsv(rgb_img=, channel=)"
   ]
  },
  {
   "cell_type": "code",
   "execution_count": null,
   "metadata": {},
   "outputs": [],
   "source": [
    "# Take a binary threshold to separate plant from background. \n",
    "# Threshold can be on either light or dark objects in the image. \n",
    "\n",
    "# Inputs:\n",
    "#   gray_img - Grayscale image data \n",
    "#   threshold- Threshold value (between 0-255)\n",
    "#   max_value - Value to apply above threshold (255 = white) \n",
    "#   object_type - 'light' (default) or 'dark'. If the object is lighter than \n",
    "#                 the background then standard threshold is done. If the object \n",
    "#                 is darker than the background then inverse thresholding is done. \n",
    "\n",
    "#threshold.binary(gray_img=, threshold=, max_value=, object_type=)"
   ]
  },
  {
   "cell_type": "code",
   "execution_count": null,
   "metadata": {},
   "outputs": [],
   "source": [
    "# Convert RGB to LAB and extract one of the channels\n",
    "\n",
    "# Input:\n",
    "#   rgb_img - RGB image data \n",
    "#   channel- Split by 'l' (lightness), 'a' (green-magenta), or 'b' (blue-yellow) channel\n",
    "#= rgb2gray_lab(rgb_img=, channel=)"
   ]
  },
  {
   "cell_type": "code",
   "execution_count": null,
   "metadata": {
    "scrolled": false
   },
   "outputs": [],
   "source": [
    "# Take a binary threshold to separate plant from background. \n",
    "# Threshold can be on either light or dark objects in the image. \n",
    "\n",
    "# Inputs:\n",
    "#   gray_img - Grayscale image data \n",
    "#   threshold- Threshold value (between 0-255)\n",
    "#   max_value - Value to apply above threshold (255 = white) \n",
    "#   object_type - 'light' (default) or 'dark'. If the object is lighter than \n",
    "#                 the background then standard threshold is done. If the object \n",
    "#                 is darker than the background then inverse thresholding is done. \n",
    "\n",
    "#threshold.binary(gray_img=, threshold=, max_value=, object_type=)"
   ]
  },
  {
   "cell_type": "code",
   "execution_count": null,
   "metadata": {},
   "outputs": [],
   "source": []
  }
 ],
 "metadata": {
  "kernelspec": {
   "display_name": "Python 3",
   "language": "python",
   "name": "python3"
  },
  "language_info": {
   "codemirror_mode": {
    "name": "ipython",
    "version": 3
   },
   "file_extension": ".py",
   "mimetype": "text/x-python",
   "name": "python",
   "nbconvert_exporter": "python",
   "pygments_lexer": "ipython3",
   "version": "3.9.4"
  }
 },
 "nbformat": 4,
 "nbformat_minor": 4
}
