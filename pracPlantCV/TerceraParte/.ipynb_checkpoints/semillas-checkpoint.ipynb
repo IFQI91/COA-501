{
 "cells": [
  {
   "cell_type": "markdown",
   "metadata": {},
   "source": [
    "# Determinación del número de semillas de una ornamental (Viola spp.), color y variables de forma."
   ]
  },
  {
   "cell_type": "markdown",
   "metadata": {},
   "source": [
    "## Sección 1. Importación de librerías e imagen"
   ]
  },
  {
   "cell_type": "code",
   "execution_count": null,
   "metadata": {},
   "outputs": [],
   "source": [
    "# Set the notebook display method\n",
    "# inline = embedded plots, notebook = interactive plots\n",
    "%matplotlib inline"
   ]
  },
  {
   "cell_type": "code",
   "execution_count": null,
   "metadata": {},
   "outputs": [],
   "source": [
    "#Importanción de librerías\n",
    "\n",
    "%matplotlib notebook\n",
    "import os\n",
    "import argparse\n",
    "import matplotlib\n",
    "import cv2\n",
    "import numpy as np\n",
    "\n",
    "from plantcv import plantcv as pcv\n",
    "\n",
    "#Librería para contar número de objetos (Cálculo del número de Euler)\n",
    "import mahotas\n",
    "\n"
   ]
  },
  {
   "cell_type": "markdown",
   "metadata": {},
   "source": [
    "### Variables de entrada"
   ]
  },
  {
   "cell_type": "code",
   "execution_count": null,
   "metadata": {},
   "outputs": [],
   "source": [
    "# Input image into self.image (include file path if image is not in \n",
    "# the same folder as jupyter notebook)\n",
    "\n",
    "# Set self.debug to \"plot\" so that image outputs for each step is shown\n",
    "# once cell is run in jupyter notebooks (recommended)\n",
    "\n",
    "class options:\n",
    "    def __init__(self):        \n",
    "        self.image = \"./imagenes/semillas.jpg\"\n",
    "        self.debug = \"plot\"\n",
    "        self.writeimg = False\n",
    "        self.result = \"seed_analysis_results\"\n",
    "        self.outdir = \".\""
   ]
  },
  {
   "cell_type": "code",
   "execution_count": null,
   "metadata": {},
   "outputs": [],
   "source": [
    "# Get options\n",
    "args = options()\n",
    "\n",
    "# Set debug to the global parameter\n",
    "pcv.params.debug = args.debug\n",
    "\n",
    "# Set plotting size (default = 100)\n",
    "pcv.params.dpi = 100\n",
    "\n",
    "# Increase text size and thickness to make labels clearer\n",
    "# (size may need to be altered based on original image size)\n",
    "pcv.params.text_size = 10\n",
    "pcv.params.text_thickness = 20"
   ]
  },
  {
   "cell_type": "markdown",
   "metadata": {},
   "source": [
    "## Lectura de la imagen de entrada"
   ]
  },
  {
   "cell_type": "code",
   "execution_count": null,
   "metadata": {},
   "outputs": [],
   "source": [
    "# Inputs:\n",
    "#   filename = Image file to be read in \n",
    "#   mode     = How to read in the image; either 'native' (default), 'rgb', 'gray', or 'csv'\n",
    "img, path, filename = pcv.readimage(filename=args.image)"
   ]
  },
  {
   "cell_type": "markdown",
   "metadata": {},
   "source": [
    "## Sección 2. Segmentación e identificación de objetos"
   ]
  },
  {
   "cell_type": "markdown",
   "metadata": {},
   "source": [
    "### Corte y selección del área de interés"
   ]
  },
  {
   "cell_type": "code",
   "execution_count": null,
   "metadata": {},
   "outputs": [],
   "source": [
    "# Inputs:\n",
    "#   x = top left x-coordinate\n",
    "#   y = top left y-coordinate\n",
    "#   h = height of final cropped image\n",
    "#   w = width of final cropped image\n",
    "img = pcv.crop(img=img, x=100, y=0, h=1000, w=1400)"
   ]
  },
  {
   "cell_type": "markdown",
   "metadata": {},
   "source": [
    "### Visualización de los diversos espacios de color"
   ]
  },
  {
   "cell_type": "code",
   "execution_count": null,
   "metadata": {},
   "outputs": [],
   "source": [
    "# Inputs:\n",
    "#   rbg_img      = original image\n",
    "#   original_img = whether to include the original RGB images in the display: True (default) or False\n",
    "colorspace_img = pcv.visualize.colorspaces(rgb_img=img)"
   ]
  },
  {
   "cell_type": "markdown",
   "metadata": {},
   "source": [
    "### Conversión de la imagen a escala de grises"
   ]
  },
  {
   "cell_type": "code",
   "execution_count": null,
   "metadata": {},
   "outputs": [],
   "source": [
    "# Inputs:\n",
    "#   rbg_img - original image\n",
    "#   channel - desired colorspace ('l', 'a', or 'b')\n",
    "b_img = pcv.rgb2gray_lab(rgb_img=img, channel='b')"
   ]
  },
  {
   "cell_type": "markdown",
   "metadata": {},
   "source": [
    "### Se visualiza la distribución de los valores en escala de grises en una gráfica"
   ]
  },
  {
   "cell_type": "code",
   "execution_count": null,
   "metadata": {},
   "outputs": [],
   "source": [
    "# Inputs:\n",
    "#   img         = gray image in selected colorspace\n",
    "#   mask        = None (default), or mask\n",
    "#   bins        = 100 (default) or number of desired number of evenly spaced bins\n",
    "#   lower-bound = None (default) or minimum value on x-axis\n",
    "#   upper-bound = None (default) or maximum value on x-axis\n",
    "#   title       = None (default) or custom plot title\n",
    "#   hist_data   = False (default) or True (if frequency distribution data is desired)\n",
    "hist = pcv.visualize.histogram(b_img)"
   ]
  },
  {
   "cell_type": "code",
   "execution_count": null,
   "metadata": {},
   "outputs": [],
   "source": [
    "### Se definen umbrales\n",
    "\n",
    "# Inputs:\n",
    "#   gray_img    = black and white image created from selected colorspace\n",
    "#   threshold   = cutoff pixel intensity value (all pixels below value will become black, all above will become white)\n",
    "#   max_value   = maximum pixel value\n",
    "#   object_type = 'dark' or 'light' depending on if seeds are darker or lighter than background\n",
    "b_thresh = pcv.threshold.binary(gray_img=b_img, threshold=139, max_value=150, object_type='light')\n"
   ]
  },
  {
   "cell_type": "markdown",
   "metadata": {},
   "source": [
    "## Eliminación de ruido del fondo, es decir eliminación de objetos de tamaño pequeño\n",
    "\n",
    "La aplicación de un umbral asigna a los píxeles de la semilla un color blanco pero también hay pequeñas imperfecciones en los píxeles del fondo que se les asigna este color. La función \"fill\" elimina ruido del fondo llamado \"sal\" mediante un filtrado del fondo de acuerdo al tamaño de los objetos."
   ]
  },
  {
   "cell_type": "code",
   "execution_count": null,
   "metadata": {},
   "outputs": [],
   "source": [
    "# Inputs:\n",
    "#   bin_img - binary mask image\n",
    "#   size - maximum size for objects that should be filled in as background (non-plant) pixels\n",
    "b_fill = pcv.fill(bin_img=b_thresh, size=100)\n",
    "#                                         ^\n",
    "#                                         |\n",
    "#                                 change this value\n"
   ]
  },
  {
   "cell_type": "markdown",
   "metadata": {},
   "source": [
    "## Sección 3. Conteo y análisis de semillas\n",
    "\n",
    "Para esto se necesita una máscara binaria completa\n",
    "\n",
    "\n",
    "### Identificación simple de objetos\n",
    "\n",
    "La máscara binaria se usa para encontrar objetos o contornos de cada una de las semillas. A diferencia de la función find_objects, esta aplicación usa la función findContours del programa OpenCV con la entrada cv2.RETR_EXTERNAL que ignora contornos en capas. La salida de este paso se puede usar para contar semillas, pero no se puede usar como entrada para análisis de color o forma."
   ]
  },
  {
   "cell_type": "code",
   "execution_count": null,
   "metadata": {},
   "outputs": [],
   "source": [
    "# Inputs:\n",
    "#   mask = binary mask with extra noise filled in\n",
    "objects = cv2.findContours(b_fill, cv2.RETR_EXTERNAL, cv2.CHAIN_APPROX_NONE)\n",
    "#print(objects[0][0][0])\n",
    "print(objects[1][0])"
   ]
  },
  {
   "cell_type": "markdown",
   "metadata": {},
   "source": [
    "### Conteo de semillas\n",
    "\n",
    "Cuenta el número de semillas (objetos simples) mediante el acceso al número de valores almacenados en el segundo item de la lista de objetos."
   ]
  },
  {
   "cell_type": "code",
   "execution_count": null,
   "metadata": {
    "scrolled": true
   },
   "outputs": [],
   "source": [
    "# Find number of seeds\n",
    "\n",
    "# Inputs:\n",
    "#    contours = list of contours\n",
    "number_seeds = len(objects[1])\n",
    "print(len(objects[1]))"
   ]
  },
  {
   "cell_type": "code",
   "execution_count": null,
   "metadata": {},
   "outputs": [],
   "source": [
    "#Se convierte los datos de la imagen en boolean (blanco =True, negro = False)\n",
    "\n",
    "arraybool=np.array(b_fill, dtype=bool)\n",
    "\n",
    "\n",
    "#El número de Euler (número entero) calcula el número de objetos menos el número de\n",
    "#agujeros en los objetos.\n",
    "#Se usa la función euler de la librería mahotas\n",
    "\n",
    "#parámetros:\n",
    "    #-imagen binaria de dos dimensiones\n",
    "    #- Entero, conectividad. Opciones: 4 u 8. Default: 8\n",
    "    #-mode: {‘reflect’, ‘nearest’, ‘wrap’, ‘mirror’, ‘constant’ [default]}\n",
    "    \n",
    "nsemillas=mahotas.euler(arraybool,8)\n",
    "print('Número de semillas:', nsemillas)\n",
    "\n",
    "\n",
    "# Create a new measurement\n",
    "pcv.outputs.add_observation(sample='default', variable='nsemillas', \n",
    "                            trait='Number of seeds',\n",
    "                            method='cuenta de semillas', scale='number', datatype=int,\n",
    "                            value=nsemillas, label='number_of_seeds')"
   ]
  },
  {
   "cell_type": "markdown",
   "metadata": {},
   "source": [
    "### Identificación de semillas para el análisis de forma y color\n",
    "\n",
    "Para el análisis de color y forma, se requiere usar la función find_objects del programa PlantCV para obtener los objectos y la jerarquía de los objetos que necesitamos como entradas en los siguientes análisis.\n",
    "\n",
    "Las funciones findContours de OpenCV y find_objects de PlantCV no se comportan de la misma manera ni tampoco proveen el mismo tipo de salidas, y por eso se deben identificar los objetos dos veces en este programa."
   ]
  },
  {
   "cell_type": "code",
   "execution_count": null,
   "metadata": {},
   "outputs": [],
   "source": [
    "# Inputs:\n",
    "#   img  = rgb image\n",
    "#   mask = binary mask\n",
    "objects2, obj_hierarchy = pcv.find_objects(img=img, mask=b_fill)"
   ]
  },
  {
   "cell_type": "markdown",
   "metadata": {},
   "source": [
    "### Mediciones en cada semilla\n",
    "\n",
    "Para hacer mediciones en cada semilla, se tienen que hacer iteraciones en cada objeto (lo cual sucede cuando obj_hierarchy[0][i][3] == -1. Para cada objeto, se siguen los siguientes pasos:\n",
    "1. Se consolidan los contornos, de tal forma que todos los contornos que corresponden a una semilla se compilan en un objeto simple y con una máscara.\n",
    "2. Se analiza la forma de la semilla.\n",
    "3. Se analiza el color de la semilla\n"
   ]
  },
  {
   "cell_type": "code",
   "execution_count": null,
   "metadata": {},
   "outputs": [],
   "source": [
    "# Se crea una copia de la imagen RGB para el análisis de forma\n",
    "# Entradas:\n",
    "#   img = image\n",
    "shape_img = np.copy(img)\n",
    "\n",
    "# Se elimina la opción de presentar gráficas o imágenes\n",
    "pcv.params.debug = None\n",
    "\n",
    "# Hace iteraciones sobre todos los objetos en objects2 y se hace el análisis de forma y color\n",
    "# for i in range(0, len(objects2)): \n",
    "# El bucle anterior consume demasiada memoria, pero idealmente se hace el bucle por cada semilla\n",
    "\n",
    "\n",
    "# Con un propósito demostrativo, se hace el bucle solo con los primeros 15 objetos\n",
    "for i in range(0, 15):\n",
    "    # Se verifica si el objeto tiene una rama en la jerarquía\n",
    "    if obj_hierarchy[0][i][3] == -1:\n",
    "        # Crea un objeto y una máscara para un objeto (semilla)\n",
    "        #\n",
    "        # Entradas:\n",
    "        #   img - rgb image\n",
    "        #   contours - list entry i in objects2\n",
    "        #   hierarchy - np.array of obj_hierarchy[0][1]\n",
    "        seed, seed_mask = pcv.object_composition(img=img, contours=[objects2[i]], hierarchy=np.array([[obj_hierarchy[0][i]]]))\n",
    "        \n",
    "        # Analiza la forma de cada semilla\n",
    "        #\n",
    "        # Entradas:\n",
    "        #   img - rgb image\n",
    "        #   obj - seed\n",
    "        #   mask - mask created of single seed\n",
    "        #   label - label for each seed in image\n",
    "        shape_img = pcv.analyze_object(img=shape_img, obj=seed, mask=seed_mask, label=f\"seed{i}\")\n",
    "        \n",
    "        # Analiza el color de cada semilla\n",
    "        #\n",
    "        # Entradas:\n",
    "        #   img - rgb image\n",
    "        #   obj - seed\n",
    "        #   hist_plot_type - 'all', or None for no histogram plot\n",
    "        #   label - 'default'      \n",
    "        color_img = pcv.analyze_color(rgb_img=img, mask=b_fill, hist_plot_type=None, label=\"default\")\n",
    "  "
   ]
  },
  {
   "cell_type": "markdown",
   "metadata": {},
   "source": [
    "### Visualización del análisis de forma de las semillas\n",
    "\n",
    "Durante la secuencia del bucle anterior se desactivó la opción de gráficado y de impresión de imágenes para evitar la reducción significativa de la velocidad de proceso. Ahora, se pueden presentar  las imágenes de los análisis de forma y color para asegurarnos que los resultados están bien.\n"
   ]
  },
  {
   "cell_type": "code",
   "execution_count": null,
   "metadata": {},
   "outputs": [],
   "source": [
    "# Entradas:\n",
    "#   img = image for shape analysis\n",
    "forma= pcv.plot_image(img=shape_img)"
   ]
  },
  {
   "cell_type": "code",
   "execution_count": null,
   "metadata": {},
   "outputs": [],
   "source": [
    "# Entradas:\n",
    "#   img = image for color analysis\n",
    "color= pcv.plot_image(img=color_img)"
   ]
  },
  {
   "cell_type": "markdown",
   "metadata": {},
   "source": [
    "### Enviar los resultados a un archivo\n",
    "\n",
    "Los resultados se almacenan en una memoria provisional. Para almacenarlos en un archivo se usa la función  save_outputs. Las variables obtenidas con la función analyze_object son: área del objeto, superficie de la envolvente convexa, 'solidity', perímetro, ancho, alto, 'longest path', centro de masa, 'convex_hull_vertices', 'object_in_frame, 'ellipse_center, 'ellipse_major_axis', 'ellipse_minor_axis', 'ellipse_angle', y 'ellipse_eccentricity. Las variables obntenidas con la función analyze_color son las frecuencias de las variables de color. En este ejemplo, los resultados se guardan en un archivo CSV. Sin embargo, cuando el programa se ejecuta en paralelo, es decir cuando se procesan varias imágenes a la vez, entonces los resultados solo se pueden almacenar en el formato json."
   ]
  },
  {
   "cell_type": "code",
   "execution_count": null,
   "metadata": {},
   "outputs": [],
   "source": [
    "# Entradas:\n",
    "#   filename  = filename for saving results\n",
    "#   outformat = output file format: \"json\" (default) hierarchical format or \"csv\" tabular format\n",
    "\n",
    "pcv.outputs.save_results(filename=args.result,outformat='csv')"
   ]
  },
  {
   "cell_type": "code",
   "execution_count": null,
   "metadata": {},
   "outputs": [],
   "source": []
  }
 ],
 "metadata": {
  "kernelspec": {
   "display_name": "Python 3",
   "language": "python",
   "name": "python3"
  },
  "language_info": {
   "codemirror_mode": {
    "name": "ipython",
    "version": 3
   },
   "file_extension": ".py",
   "mimetype": "text/x-python",
   "name": "python",
   "nbconvert_exporter": "python",
   "pygments_lexer": "ipython3",
   "version": "3.9.4"
  }
 },
 "nbformat": 4,
 "nbformat_minor": 4
}
