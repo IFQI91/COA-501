{
 "cells": [
  {
   "cell_type": "code",
   "execution_count": 1,
   "id": "d15a1f44",
   "metadata": {},
   "outputs": [
    {
     "name": "stderr",
     "output_type": "stream",
     "text": [
      "/Users/josealfredocarrillosalazar/newplantcv/lib/python3.9/site-packages/dask_jobqueue/core.py:20: FutureWarning: tmpfile is deprecated and will be removed in a future release. Please use dask.utils.tmpfile instead.\n"
     ]
    }
   ],
   "source": [
    "#Create a configuration file\n",
    "\n",
    "import plantcv.parallel\n",
    "config = plantcv.parallel.WorkflowConfig()\n",
    "config.save_config(\"config.json\")"
   ]
  },
  {
   "cell_type": "code",
   "execution_count": 2,
   "id": "0feb2afa",
   "metadata": {},
   "outputs": [],
   "source": [
    "\n",
    "\n",
    "# Create a WorkflowConfig instance\n",
    "config = plantcv.parallel.WorkflowConfig()\n",
    "\n",
    "#if you want to reuse a configuration file you can import it after creating an instance\n",
    "config.import_config(config_file=\"config.json\")\n",
    "\n",
    "# Change configuration values directly in Python as needed. At a minimum you must specify input_dir, json, filename_metadata, workflow.\n",
    "config.input_dir = \"./images\"\n",
    "config.json = \"output.json\"\n",
    "config.filename_metadata = [\"plantbarcode\"]\n",
    "config.workflow = \"proceso_semillas.py\"\n",
    "\n",
    "# Check for errors\n",
    "config.validate_config()\n",
    "\n",
    "# If it passes, save your configuration\n",
    "config.save_config(config_file=\"config.json\")"
   ]
  },
  {
   "cell_type": "code",
   "execution_count": null,
   "id": "fa3ed64b",
   "metadata": {},
   "outputs": [],
   "source": []
  }
 ],
 "metadata": {
  "kernelspec": {
   "display_name": "Python 3 (ipykernel)",
   "language": "python",
   "name": "python3"
  },
  "language_info": {
   "codemirror_mode": {
    "name": "ipython",
    "version": 3
   },
   "file_extension": ".py",
   "mimetype": "text/x-python",
   "name": "python",
   "nbconvert_exporter": "python",
   "pygments_lexer": "ipython3",
   "version": "3.9.4"
  }
 },
 "nbformat": 4,
 "nbformat_minor": 5
}
