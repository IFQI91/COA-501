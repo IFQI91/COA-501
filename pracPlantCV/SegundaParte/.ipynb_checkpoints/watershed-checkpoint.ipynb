{
 "cells": [
  {
   "cell_type": "markdown",
   "metadata": {},
   "source": [
    "# Watershed Segmentation\n",
    "There is a PlantCV function is based on code contributed by Suxing Liu, Arkansas State University. For more information see https://github.com/lsx1980/Leaf_count. This function uses the watershed algorithm to detect boundary of objects. Needs a mask file which specifies area which is object is white, and background is black. Requires cv2 version 3.0+"
   ]
  },
  {
   "cell_type": "code",
   "execution_count": null,
   "metadata": {},
   "outputs": [],
   "source": [
    "from plantcv import plantcv as pcv"
   ]
  },
  {
   "cell_type": "code",
   "execution_count": null,
   "metadata": {},
   "outputs": [],
   "source": [
    "# Use arabidopsis.jpg or Diffebanchia.jpg\n",
    "class options:\n",
    "    def __init__(self):\n",
    "        self.image = \"\"\n",
    "        self.debug = \"plot\"\n",
    "        self.writeimg= False \n",
    "        self.outdir = \".\"\n",
    "# Get options\n",
    "args = options()\n",
    "\n",
    "# Set debug to the global parameter \n",
    "pcv.params.debug = args.debug\n",
    "\n",
    "# Read image\n",
    "\n",
    "# Inputs:\n",
    "#   filename - Image file to be read in \n",
    "#   mode - Return mode of image; either 'native' (default), 'rgb', 'gray', or 'csv' \n",
    "\n",
    "img, path, filename = pcv.readimage(filename=args.image)"
   ]
  },
  {
   "cell_type": "code",
   "execution_count": null,
   "metadata": {},
   "outputs": [],
   "source": [
    "# Crop the image down to focus on just one plant \n",
    "#crop_img = img[0:,80:500]\n",
    "# Print it out to see \n",
    "pcv.plot_image(crop_img)"
   ]
  },
  {
   "cell_type": "code",
   "execution_count": null,
   "metadata": {},
   "outputs": [],
   "source": [
    "# Convert image from RGB color space to LAB and keep only the \n",
    "# green-magenta channel \n",
    "\n",
    "# Inputs:\n",
    "#    rgb_img = image object, RGB color space\n",
    "#    channel = color subchannel ('l' = lightness, 'a' = green-magenta , 'b' = blue-yellow)\n",
    "\n",
    "a = pcv.rgb2gray_lab(rgb_img=crop_img, channel='a')"
   ]
  },
  {
   "cell_type": "code",
   "execution_count": null,
   "metadata": {
    "scrolled": false
   },
   "outputs": [],
   "source": [
    "# Set a binary threshold on the image \n",
    "\n",
    "# Inputs:\n",
    "#    gray_img    = img object, grayscale\n",
    "#    threshold   = threshold value (0-255)\n",
    "#    max_value   = value to apply above threshold (usually 255 = white)\n",
    "#    object_type = light or dark\n",
    "#       - If object is light then standard thresholding is done\n",
    "#       - If object is dark then inverse thresholding is done\n",
    "\n",
    "#img_binary = pcv.threshold.binary(gray_img=a, threshold=124, max_value=150, object_type='dark')"
   ]
  },
  {
   "cell_type": "code",
   "execution_count": null,
   "metadata": {},
   "outputs": [],
   "source": [
    "#img_median= pcv.median_blur(gray_img=img_binary, ksize=5)"
   ]
  },
  {
   "cell_type": "code",
   "execution_count": null,
   "metadata": {},
   "outputs": [],
   "source": [
    "#fill_image=pcv.fill(bin_img=img_median, size=100)"
   ]
  },
  {
   "cell_type": "code",
   "execution_count": null,
   "metadata": {},
   "outputs": [],
   "source": [
    "# Find objects\n",
    "\n",
    "# Inputs:\n",
    "#    img  = image that the objects will be overlayed\n",
    "#    mask = what is used for object detection\n",
    "\n",
    "#id_objects, obj_hierarchy = pcv.find_objects(img=crop_img, mask=img_binary)\n",
    "\n",
    "#id_objects, obj_hierarchy = pcv.find_objects(img=crop_img, mask=fill_image)"
   ]
  },
  {
   "cell_type": "code",
   "execution_count": null,
   "metadata": {
    "scrolled": true
   },
   "outputs": [],
   "source": [
    "#Make a circular ROI\n",
    "\n",
    "#roi_contour, roi_hierarchy = pcv.roi.circle(img=crop_img, x=250, y=300, r=75)"
   ]
  },
  {
   "cell_type": "code",
   "execution_count": null,
   "metadata": {},
   "outputs": [],
   "source": [
    "# Decide which objects to keep\n",
    "\n",
    "# Inputs:\n",
    "#    img            = img to display kept objects\n",
    "#    roi_contour    = contour of roi, output from any ROI function\n",
    "#    roi_hierarchy  = contour of roi, output from any ROI function\n",
    "#    object_contour = contours of objects, output from pcv.find_objects function\n",
    "#    obj_hierarchy  = hierarchy of objects, output from pcv.find_objects function\n",
    "#    roi_type       = 'partial' (default, for partially inside the ROI), 'cutto', or \n",
    "#                     'largest' (keep only largest contour)\n",
    "#roi_objects2, hierarchy3_b, kept_mask_2, obj_area_2 = pcv.roi_objects(img=crop_img, roi_contour=roi_contour, \n",
    "#                                                               roi_hierarchy=roi_hierarchy, \n",
    "#                                                               object_contour=id_objects, \n",
    "#                                                               obj_hierarchy=obj_hierarchy,\n",
    "#                                                               roi_type='partial')\n",
    "\n"
   ]
  },
  {
   "cell_type": "code",
   "execution_count": null,
   "metadata": {},
   "outputs": [],
   "source": [
    "# Combine objects \n",
    "\n",
    "# Inputs:\n",
    "#   img       = RGB or grayscale image data for plotting \n",
    "#   contours  = Contour list \n",
    "#   hierarchy = Contour hierarchy array \n",
    "\n",
    "#obj, mask = pcv.object_composition(img=crop_img, contours=roi_objects2, hierarchy=hierarchy3_b)\n",
    "#obj, mask = pcv.object_composition(img=crop_img, contours=id_objects, hierarchy=obj_hierarchy)"
   ]
  },
  {
   "cell_type": "code",
   "execution_count": null,
   "metadata": {
    "scrolled": true
   },
   "outputs": [],
   "source": [
    "# Appy mask\n",
    "\n",
    "# Inputs:\n",
    "#   img        = RGB or grayscale image data \n",
    "#   mask       = Binary mask image data \n",
    "#   mask_color = 'white' or 'black' \n",
    "\n",
    "#masked = pcv.apply_mask(img=crop_img, mask=mask, mask_color=\"black\")"
   ]
  },
  {
   "cell_type": "code",
   "execution_count": null,
   "metadata": {
    "scrolled": false
   },
   "outputs": [],
   "source": [
    "# Use watershed segmentation \n",
    "\n",
    "# Inputs:\n",
    "#   rgb_img  = RGB image data \n",
    "#   mask     = Binary image, single channel, object in white and background black\n",
    "#   distance = Minimum distance of local maximum, lower values are more sensitive, \n",
    "#              and segments more objects (default: 10)\n",
    "#   label    = Optional label parameter, modifies the variable name of observations recorded. (default `label=\"default\"`)filled_img = pcv.morphology.fill_segments(mask=cropped_mask, objects=edge_objects)\n",
    "\n",
    "\n",
    "#analysis_images = pcv.watershed_segmentation(rgb_img=masked, mask=mask, distance=15)"
   ]
  },
  {
   "cell_type": "code",
   "execution_count": null,
   "metadata": {},
   "outputs": [],
   "source": [
    "# The save results function will take the measurements stored when running any PlantCV analysis functions, format, \n",
    "# and print an output text file for data analysis. The Outputs class stores data whenever any of the following functions\n",
    "# are ran: analyze_bound_horizontal, analyze_bound_vertical, analyze_color, analyze_nir_intensity, analyze_object, \n",
    "# fluor_fvfm, report_size_marker_area, watershed. If no functions have been run, it will print an empty text file \n",
    "\n",
    "\n",
    "#pcv.outputs.save_results(filename='segmentation_tutorial_results.txt',outformat=\"csv\")"
   ]
  },
  {
   "cell_type": "code",
   "execution_count": null,
   "metadata": {},
   "outputs": [],
   "source": []
  }
 ],
 "metadata": {
  "kernelspec": {
   "display_name": "Python 3",
   "language": "python",
   "name": "python3"
  },
  "language_info": {
   "codemirror_mode": {
    "name": "ipython",
    "version": 3
   },
   "file_extension": ".py",
   "mimetype": "text/x-python",
   "name": "python",
   "nbconvert_exporter": "python",
   "pygments_lexer": "ipython3",
   "version": "3.9.4"
  }
 },
 "nbformat": 4,
 "nbformat_minor": 4
}
