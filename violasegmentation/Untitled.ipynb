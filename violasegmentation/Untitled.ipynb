{
 "cells": [
  {
   "cell_type": "code",
   "execution_count": 1,
   "id": "c9b85743",
   "metadata": {},
   "outputs": [
    {
     "ename": "SyntaxError",
     "evalue": "invalid syntax (3165335558.py, line 15)",
     "output_type": "error",
     "traceback": [
      "\u001b[1;36m  Cell \u001b[1;32mIn [1], line 15\u001b[1;36m\u001b[0m\n\u001b[1;33m    plantcv-utils.py tabulate_bayes_classes -i ./muestras.txt -o ./res-pdfs.txt\u001b[0m\n\u001b[1;37m                     ^\u001b[0m\n\u001b[1;31mSyntaxError\u001b[0m\u001b[1;31m:\u001b[0m invalid syntax\n"
     ]
    }
   ],
   "source": [
    "import cv2\n",
    "import numpy as np\n",
    "from plantcv import plantcv as pcv\n",
    "import pandas as pd\n",
    "\n",
    "#Librería para contar número de objetos (Cálculo del número de Euler)\n",
    "import mahotas\n",
    "\n",
    "# Set global debug behavior to None (default), \"print\" (to file), \n",
    "# or \"plot\" (Jupyter Notebooks or X11)\n",
    "pcv.params.debug = \"print\"\n",
    "\n",
    "\n",
    "\n",
    "plantcv-utils.py tabulate_bayes_classes -i ./muestras.txt -o ./res-pdfs.txt"
   ]
  },
  {
   "cell_type": "code",
   "execution_count": null,
   "id": "90266226",
   "metadata": {},
   "outputs": [],
   "source": []
  }
 ],
 "metadata": {
  "kernelspec": {
   "display_name": "Python 3 (ipykernel)",
   "language": "python",
   "name": "python3"
  },
  "language_info": {
   "codemirror_mode": {
    "name": "ipython",
    "version": 3
   },
   "file_extension": ".py",
   "mimetype": "text/x-python",
   "name": "python",
   "nbconvert_exporter": "python",
   "pygments_lexer": "ipython3",
   "version": "3.9.13"
  }
 },
 "nbformat": 4,
 "nbformat_minor": 5
}
