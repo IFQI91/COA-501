{
 "cells": [
  {
   "cell_type": "markdown",
   "metadata": {},
   "source": [
    "# PANDAS \n",
    "\n",
    "Pandas es un programa para análisis y manejo de datos."
   ]
  },
  {
   "cell_type": "code",
   "execution_count": 1,
   "metadata": {},
   "outputs": [],
   "source": [
    "#Importar librerías\n",
    "\n",
    "import numpy as np\n",
    "import pandas as pd"
   ]
  },
  {
   "cell_type": "code",
   "execution_count": 2,
   "metadata": {},
   "outputs": [
    {
     "data": {
      "text/plain": [
       "0    1.0\n",
       "1    3.0\n",
       "2    5.0\n",
       "3    NaN\n",
       "4    6.0\n",
       "5    8.0\n",
       "dtype: float64"
      ]
     },
     "execution_count": 2,
     "metadata": {},
     "output_type": "execute_result"
    }
   ],
   "source": [
    "#Creación de objetos\n",
    "s = pd.Series([1, 3, 5, np.nan, 6, 8])\n",
    "#np.nan --- son valores nulos\n",
    "\n",
    "#Presentar lo que contiene el objeto\n",
    "s"
   ]
  },
  {
   "cell_type": "code",
   "execution_count": 3,
   "metadata": {},
   "outputs": [
    {
     "data": {
      "text/plain": [
       "DatetimeIndex(['2022-01-01', '2022-01-02', '2022-01-03', '2022-01-04',\n",
       "               '2022-01-05', '2022-01-06'],\n",
       "              dtype='datetime64[ns]', freq='D')"
      ]
     },
     "execution_count": 3,
     "metadata": {},
     "output_type": "execute_result"
    }
   ],
   "source": [
    "#Creación de una estructura de fechas simple\n",
    "\n",
    "fechas = pd.date_range(\"20220101\", periods=6)\n",
    "\n",
    "#Presenta la estructura de fechas\n",
    "fechas\n",
    "\n"
   ]
  },
  {
   "cell_type": "code",
   "execution_count": 4,
   "metadata": {
    "scrolled": true
   },
   "outputs": [
    {
     "data": {
      "text/html": [
       "<div>\n",
       "<style scoped>\n",
       "    .dataframe tbody tr th:only-of-type {\n",
       "        vertical-align: middle;\n",
       "    }\n",
       "\n",
       "    .dataframe tbody tr th {\n",
       "        vertical-align: top;\n",
       "    }\n",
       "\n",
       "    .dataframe thead th {\n",
       "        text-align: right;\n",
       "    }\n",
       "</style>\n",
       "<table border=\"1\" class=\"dataframe\">\n",
       "  <thead>\n",
       "    <tr style=\"text-align: right;\">\n",
       "      <th></th>\n",
       "      <th>A</th>\n",
       "      <th>B</th>\n",
       "      <th>C</th>\n",
       "      <th>D</th>\n",
       "    </tr>\n",
       "  </thead>\n",
       "  <tbody>\n",
       "    <tr>\n",
       "      <th>2022-01-01</th>\n",
       "      <td>-1.422679</td>\n",
       "      <td>-1.315275</td>\n",
       "      <td>0.295780</td>\n",
       "      <td>0.042066</td>\n",
       "    </tr>\n",
       "    <tr>\n",
       "      <th>2022-01-02</th>\n",
       "      <td>1.100917</td>\n",
       "      <td>-0.861588</td>\n",
       "      <td>0.605273</td>\n",
       "      <td>0.487554</td>\n",
       "    </tr>\n",
       "    <tr>\n",
       "      <th>2022-01-03</th>\n",
       "      <td>0.935788</td>\n",
       "      <td>-0.568866</td>\n",
       "      <td>-1.352506</td>\n",
       "      <td>-0.685861</td>\n",
       "    </tr>\n",
       "    <tr>\n",
       "      <th>2022-01-04</th>\n",
       "      <td>1.459295</td>\n",
       "      <td>1.516964</td>\n",
       "      <td>1.137631</td>\n",
       "      <td>-0.292293</td>\n",
       "    </tr>\n",
       "    <tr>\n",
       "      <th>2022-01-05</th>\n",
       "      <td>-1.424960</td>\n",
       "      <td>0.398243</td>\n",
       "      <td>1.217683</td>\n",
       "      <td>0.121757</td>\n",
       "    </tr>\n",
       "    <tr>\n",
       "      <th>2022-01-06</th>\n",
       "      <td>-1.358037</td>\n",
       "      <td>-1.812294</td>\n",
       "      <td>0.467139</td>\n",
       "      <td>-0.537333</td>\n",
       "    </tr>\n",
       "  </tbody>\n",
       "</table>\n",
       "</div>"
      ],
      "text/plain": [
       "                   A         B         C         D\n",
       "2022-01-01 -1.422679 -1.315275  0.295780  0.042066\n",
       "2022-01-02  1.100917 -0.861588  0.605273  0.487554\n",
       "2022-01-03  0.935788 -0.568866 -1.352506 -0.685861\n",
       "2022-01-04  1.459295  1.516964  1.137631 -0.292293\n",
       "2022-01-05 -1.424960  0.398243  1.217683  0.121757\n",
       "2022-01-06 -1.358037 -1.812294  0.467139 -0.537333"
      ]
     },
     "execution_count": 4,
     "metadata": {},
     "output_type": "execute_result"
    }
   ],
   "source": [
    "#Creación de un cuadro con fechas y valores aleatorios en las columnas A, B, C, y D\n",
    "fechas2 = pd.DataFrame(np.random.randn(6, 4), index=fechas, columns=list(\"ABCD\"))\n",
    "\n",
    "#Presenta el cuadro resultante\n",
    "fechas2\n",
    "\n",
    "\n",
    "#Como ejercicio vuelva a ejecutar la celda y observe los resultados"
   ]
  },
  {
   "cell_type": "code",
   "execution_count": 5,
   "metadata": {},
   "outputs": [
    {
     "data": {
      "text/html": [
       "<div>\n",
       "<style scoped>\n",
       "    .dataframe tbody tr th:only-of-type {\n",
       "        vertical-align: middle;\n",
       "    }\n",
       "\n",
       "    .dataframe tbody tr th {\n",
       "        vertical-align: top;\n",
       "    }\n",
       "\n",
       "    .dataframe thead th {\n",
       "        text-align: right;\n",
       "    }\n",
       "</style>\n",
       "<table border=\"1\" class=\"dataframe\">\n",
       "  <thead>\n",
       "    <tr style=\"text-align: right;\">\n",
       "      <th></th>\n",
       "      <th>A</th>\n",
       "      <th>B</th>\n",
       "      <th>C</th>\n",
       "      <th>D</th>\n",
       "      <th>E</th>\n",
       "      <th>F</th>\n",
       "    </tr>\n",
       "  </thead>\n",
       "  <tbody>\n",
       "    <tr>\n",
       "      <th>0</th>\n",
       "      <td>1.0</td>\n",
       "      <td>2022-01-02</td>\n",
       "      <td>1.0</td>\n",
       "      <td>3</td>\n",
       "      <td>test</td>\n",
       "      <td>foo</td>\n",
       "    </tr>\n",
       "    <tr>\n",
       "      <th>1</th>\n",
       "      <td>1.0</td>\n",
       "      <td>2022-01-02</td>\n",
       "      <td>1.0</td>\n",
       "      <td>3</td>\n",
       "      <td>train</td>\n",
       "      <td>foo</td>\n",
       "    </tr>\n",
       "    <tr>\n",
       "      <th>2</th>\n",
       "      <td>1.0</td>\n",
       "      <td>2022-01-02</td>\n",
       "      <td>1.0</td>\n",
       "      <td>3</td>\n",
       "      <td>test</td>\n",
       "      <td>foo</td>\n",
       "    </tr>\n",
       "    <tr>\n",
       "      <th>3</th>\n",
       "      <td>1.0</td>\n",
       "      <td>2022-01-02</td>\n",
       "      <td>1.0</td>\n",
       "      <td>3</td>\n",
       "      <td>train</td>\n",
       "      <td>foo</td>\n",
       "    </tr>\n",
       "  </tbody>\n",
       "</table>\n",
       "</div>"
      ],
      "text/plain": [
       "     A          B    C  D      E    F\n",
       "0  1.0 2022-01-02  1.0  3   test  foo\n",
       "1  1.0 2022-01-02  1.0  3  train  foo\n",
       "2  1.0 2022-01-02  1.0  3   test  foo\n",
       "3  1.0 2022-01-02  1.0  3  train  foo"
      ]
     },
     "execution_count": 5,
     "metadata": {},
     "output_type": "execute_result"
    }
   ],
   "source": [
    "#Creación de una estructura de datos pasando un objeto Dict (Diccionario) que puede convertirse en\n",
    "#algo parecido a una serie.\n",
    "fechas3 = pd.DataFrame(\n",
    "        {\n",
    "            \"A\": 1.0,\n",
    "            \"B\": pd.Timestamp(\"20220102\"),\n",
    "            \"C\": pd.Series(1, index=list(range(4)), dtype=\"float32\"),#float32 equivale a real de 32 bits\n",
    "            \"D\": np.array([3] * 4, dtype=\"int32\"),\n",
    "            \"E\": pd.Categorical([\"test\", \"train\", \"test\", \"train\"]),\n",
    "            \"F\": \"foo\",\n",
    "        }\n",
    "    )\n",
    " \n",
    "        \n",
    "fechas3"
   ]
  },
  {
   "cell_type": "code",
   "execution_count": 6,
   "metadata": {
    "scrolled": true
   },
   "outputs": [
    {
     "data": {
      "text/plain": [
       "A           float64\n",
       "B    datetime64[ns]\n",
       "C           float32\n",
       "D             int32\n",
       "E          category\n",
       "F            object\n",
       "dtype: object"
      ]
     },
     "execution_count": 6,
     "metadata": {},
     "output_type": "execute_result"
    }
   ],
   "source": [
    "# Las columnas de la estructura tienen diferentes tipos de datos\n",
    "\n",
    "fechas3.dtypes\n",
    "\n",
    "#a real 64 bits\n",
    "#fecha de 64 bits\n",
    "#c real de 32 vits\n",
    "#entero de 32 bits\n",
    "#categoria\n",
    "#objeto"
   ]
  },
  {
   "cell_type": "markdown",
   "metadata": {},
   "source": [
    "#REVISANDO DATOS\n",
    "\n",
    "Aquí se muestra como ver las hileras superiores e inferiores de una estructura:"
   ]
  },
  {
   "cell_type": "code",
   "execution_count": 7,
   "metadata": {},
   "outputs": [
    {
     "data": {
      "text/html": [
       "<div>\n",
       "<style scoped>\n",
       "    .dataframe tbody tr th:only-of-type {\n",
       "        vertical-align: middle;\n",
       "    }\n",
       "\n",
       "    .dataframe tbody tr th {\n",
       "        vertical-align: top;\n",
       "    }\n",
       "\n",
       "    .dataframe thead th {\n",
       "        text-align: right;\n",
       "    }\n",
       "</style>\n",
       "<table border=\"1\" class=\"dataframe\">\n",
       "  <thead>\n",
       "    <tr style=\"text-align: right;\">\n",
       "      <th></th>\n",
       "      <th>A</th>\n",
       "      <th>B</th>\n",
       "      <th>C</th>\n",
       "      <th>D</th>\n",
       "    </tr>\n",
       "  </thead>\n",
       "  <tbody>\n",
       "    <tr>\n",
       "      <th>2022-01-01</th>\n",
       "      <td>-1.422679</td>\n",
       "      <td>-1.315275</td>\n",
       "      <td>0.295780</td>\n",
       "      <td>0.042066</td>\n",
       "    </tr>\n",
       "    <tr>\n",
       "      <th>2022-01-02</th>\n",
       "      <td>1.100917</td>\n",
       "      <td>-0.861588</td>\n",
       "      <td>0.605273</td>\n",
       "      <td>0.487554</td>\n",
       "    </tr>\n",
       "    <tr>\n",
       "      <th>2022-01-03</th>\n",
       "      <td>0.935788</td>\n",
       "      <td>-0.568866</td>\n",
       "      <td>-1.352506</td>\n",
       "      <td>-0.685861</td>\n",
       "    </tr>\n",
       "    <tr>\n",
       "      <th>2022-01-04</th>\n",
       "      <td>1.459295</td>\n",
       "      <td>1.516964</td>\n",
       "      <td>1.137631</td>\n",
       "      <td>-0.292293</td>\n",
       "    </tr>\n",
       "    <tr>\n",
       "      <th>2022-01-05</th>\n",
       "      <td>-1.424960</td>\n",
       "      <td>0.398243</td>\n",
       "      <td>1.217683</td>\n",
       "      <td>0.121757</td>\n",
       "    </tr>\n",
       "  </tbody>\n",
       "</table>\n",
       "</div>"
      ],
      "text/plain": [
       "                   A         B         C         D\n",
       "2022-01-01 -1.422679 -1.315275  0.295780  0.042066\n",
       "2022-01-02  1.100917 -0.861588  0.605273  0.487554\n",
       "2022-01-03  0.935788 -0.568866 -1.352506 -0.685861\n",
       "2022-01-04  1.459295  1.516964  1.137631 -0.292293\n",
       "2022-01-05 -1.424960  0.398243  1.217683  0.121757"
      ]
     },
     "execution_count": 7,
     "metadata": {},
     "output_type": "execute_result"
    }
   ],
   "source": [
    "fechas2.head()"
   ]
  },
  {
   "cell_type": "code",
   "execution_count": 8,
   "metadata": {},
   "outputs": [
    {
     "data": {
      "text/html": [
       "<div>\n",
       "<style scoped>\n",
       "    .dataframe tbody tr th:only-of-type {\n",
       "        vertical-align: middle;\n",
       "    }\n",
       "\n",
       "    .dataframe tbody tr th {\n",
       "        vertical-align: top;\n",
       "    }\n",
       "\n",
       "    .dataframe thead th {\n",
       "        text-align: right;\n",
       "    }\n",
       "</style>\n",
       "<table border=\"1\" class=\"dataframe\">\n",
       "  <thead>\n",
       "    <tr style=\"text-align: right;\">\n",
       "      <th></th>\n",
       "      <th>A</th>\n",
       "      <th>B</th>\n",
       "      <th>C</th>\n",
       "      <th>D</th>\n",
       "    </tr>\n",
       "  </thead>\n",
       "  <tbody>\n",
       "    <tr>\n",
       "      <th>2022-01-04</th>\n",
       "      <td>1.459295</td>\n",
       "      <td>1.516964</td>\n",
       "      <td>1.137631</td>\n",
       "      <td>-0.292293</td>\n",
       "    </tr>\n",
       "    <tr>\n",
       "      <th>2022-01-05</th>\n",
       "      <td>-1.424960</td>\n",
       "      <td>0.398243</td>\n",
       "      <td>1.217683</td>\n",
       "      <td>0.121757</td>\n",
       "    </tr>\n",
       "    <tr>\n",
       "      <th>2022-01-06</th>\n",
       "      <td>-1.358037</td>\n",
       "      <td>-1.812294</td>\n",
       "      <td>0.467139</td>\n",
       "      <td>-0.537333</td>\n",
       "    </tr>\n",
       "  </tbody>\n",
       "</table>\n",
       "</div>"
      ],
      "text/plain": [
       "                   A         B         C         D\n",
       "2022-01-04  1.459295  1.516964  1.137631 -0.292293\n",
       "2022-01-05 -1.424960  0.398243  1.217683  0.121757\n",
       "2022-01-06 -1.358037 -1.812294  0.467139 -0.537333"
      ]
     },
     "execution_count": 8,
     "metadata": {},
     "output_type": "execute_result"
    }
   ],
   "source": [
    "fechas2.tail(3)"
   ]
  },
  {
   "cell_type": "code",
   "execution_count": 9,
   "metadata": {},
   "outputs": [
    {
     "data": {
      "text/plain": [
       "DatetimeIndex(['2022-01-01', '2022-01-02', '2022-01-03', '2022-01-04',\n",
       "               '2022-01-05', '2022-01-06'],\n",
       "              dtype='datetime64[ns]', freq='D')"
      ]
     },
     "execution_count": 9,
     "metadata": {},
     "output_type": "execute_result"
    }
   ],
   "source": [
    "#Despliegue del índice, columnas:\n",
    "\n",
    "fechas2.index"
   ]
  },
  {
   "cell_type": "code",
   "execution_count": 10,
   "metadata": {},
   "outputs": [
    {
     "data": {
      "text/plain": [
       "Index(['A', 'B', 'C', 'D'], dtype='object')"
      ]
     },
     "execution_count": 10,
     "metadata": {},
     "output_type": "execute_result"
    }
   ],
   "source": [
    "fechas2.columns"
   ]
  },
  {
   "cell_type": "code",
   "execution_count": 11,
   "metadata": {},
   "outputs": [
    {
     "data": {
      "text/plain": [
       "A    float64\n",
       "B    float64\n",
       "C    float64\n",
       "D    float64\n",
       "dtype: object"
      ]
     },
     "execution_count": 11,
     "metadata": {},
     "output_type": "execute_result"
    }
   ],
   "source": [
    "fechas2.dtypes"
   ]
  },
  {
   "cell_type": "code",
   "execution_count": 12,
   "metadata": {},
   "outputs": [
    {
     "data": {
      "text/plain": [
       "array([[-1.4226786 , -1.31527497,  0.29577952,  0.04206554],\n",
       "       [ 1.10091721, -0.86158759,  0.60527253,  0.48755377],\n",
       "       [ 0.93578786, -0.56886636, -1.35250626, -0.68586094],\n",
       "       [ 1.45929525,  1.51696378,  1.13763109, -0.29229316],\n",
       "       [-1.42495974,  0.39824327,  1.21768303,  0.12175655],\n",
       "       [-1.35803739, -1.81229417,  0.46713911, -0.53733263]])"
      ]
     },
     "execution_count": 12,
     "metadata": {},
     "output_type": "execute_result"
    }
   ],
   "source": [
    "#DataFrame.to_numpy() provee de una representación NumPy de los datos. Observe que esto puede ser costoso cuando su\n",
    "#Dataframe tiene columnas de diferentes tipos. Esto es fundamentalmente diferente entre pandas y NumPy:\n",
    "#Las matrices en NumPy tienen un dtype para toda la matriz, mientras DataFrame de pandas tiene un dtype por columna.\n",
    "#Cuando se llama DataFrame.to_numpy(), pandas encuentra el dtype que pueda contener todos los dtypes del DataFrame.\n",
    "#Esto podría generar mas bien un objeto, el cual requiere presententar cada valor de un objeto de Python.En el ejemplo,\n",
    "#los valores son del tipo floating-point, entonces la función para realizar la conversión se ejecuta rápidamente\n",
    "# y no requiere copiar datos.\n",
    "\n",
    "fechas2.to_numpy()\n"
   ]
  },
  {
   "cell_type": "code",
   "execution_count": 13,
   "metadata": {},
   "outputs": [
    {
     "data": {
      "text/plain": [
       "array([[1.0, Timestamp('2022-01-02 00:00:00'), 1.0, 3, 'test', 'foo'],\n",
       "       [1.0, Timestamp('2022-01-02 00:00:00'), 1.0, 3, 'train', 'foo'],\n",
       "       [1.0, Timestamp('2022-01-02 00:00:00'), 1.0, 3, 'test', 'foo'],\n",
       "       [1.0, Timestamp('2022-01-02 00:00:00'), 1.0, 3, 'train', 'foo']],\n",
       "      dtype=object)"
      ]
     },
     "execution_count": 13,
     "metadata": {},
     "output_type": "execute_result"
    }
   ],
   "source": [
    "#La conversión de fechas3 que tiene múltiples dtypes con el comando DataFrame.to_numpy() es relativamente costoso.\n",
    "fechas3.to_numpy()\n",
    "\n",
    "#Nota: Observe que DataFrame.to_numpy() no incluye los índices o etiquetas de las columnas en la salida."
   ]
  },
  {
   "cell_type": "code",
   "execution_count": 14,
   "metadata": {
    "scrolled": true
   },
   "outputs": [
    {
     "data": {
      "text/html": [
       "<div>\n",
       "<style scoped>\n",
       "    .dataframe tbody tr th:only-of-type {\n",
       "        vertical-align: middle;\n",
       "    }\n",
       "\n",
       "    .dataframe tbody tr th {\n",
       "        vertical-align: top;\n",
       "    }\n",
       "\n",
       "    .dataframe thead th {\n",
       "        text-align: right;\n",
       "    }\n",
       "</style>\n",
       "<table border=\"1\" class=\"dataframe\">\n",
       "  <thead>\n",
       "    <tr style=\"text-align: right;\">\n",
       "      <th></th>\n",
       "      <th>A</th>\n",
       "      <th>B</th>\n",
       "      <th>C</th>\n",
       "      <th>D</th>\n",
       "    </tr>\n",
       "  </thead>\n",
       "  <tbody>\n",
       "    <tr>\n",
       "      <th>count</th>\n",
       "      <td>6.000000</td>\n",
       "      <td>6.000000</td>\n",
       "      <td>6.000000</td>\n",
       "      <td>6.000000</td>\n",
       "    </tr>\n",
       "    <tr>\n",
       "      <th>mean</th>\n",
       "      <td>-0.118279</td>\n",
       "      <td>-0.440469</td>\n",
       "      <td>0.395167</td>\n",
       "      <td>-0.144018</td>\n",
       "    </tr>\n",
       "    <tr>\n",
       "      <th>std</th>\n",
       "      <td>1.416482</td>\n",
       "      <td>1.214578</td>\n",
       "      <td>0.931810</td>\n",
       "      <td>0.441457</td>\n",
       "    </tr>\n",
       "    <tr>\n",
       "      <th>min</th>\n",
       "      <td>-1.424960</td>\n",
       "      <td>-1.812294</td>\n",
       "      <td>-1.352506</td>\n",
       "      <td>-0.685861</td>\n",
       "    </tr>\n",
       "    <tr>\n",
       "      <th>25%</th>\n",
       "      <td>-1.406518</td>\n",
       "      <td>-1.201853</td>\n",
       "      <td>0.338619</td>\n",
       "      <td>-0.476073</td>\n",
       "    </tr>\n",
       "    <tr>\n",
       "      <th>50%</th>\n",
       "      <td>-0.211125</td>\n",
       "      <td>-0.715227</td>\n",
       "      <td>0.536206</td>\n",
       "      <td>-0.125114</td>\n",
       "    </tr>\n",
       "    <tr>\n",
       "      <th>75%</th>\n",
       "      <td>1.059635</td>\n",
       "      <td>0.156466</td>\n",
       "      <td>1.004541</td>\n",
       "      <td>0.101834</td>\n",
       "    </tr>\n",
       "    <tr>\n",
       "      <th>max</th>\n",
       "      <td>1.459295</td>\n",
       "      <td>1.516964</td>\n",
       "      <td>1.217683</td>\n",
       "      <td>0.487554</td>\n",
       "    </tr>\n",
       "  </tbody>\n",
       "</table>\n",
       "</div>"
      ],
      "text/plain": [
       "              A         B         C         D\n",
       "count  6.000000  6.000000  6.000000  6.000000\n",
       "mean  -0.118279 -0.440469  0.395167 -0.144018\n",
       "std    1.416482  1.214578  0.931810  0.441457\n",
       "min   -1.424960 -1.812294 -1.352506 -0.685861\n",
       "25%   -1.406518 -1.201853  0.338619 -0.476073\n",
       "50%   -0.211125 -0.715227  0.536206 -0.125114\n",
       "75%    1.059635  0.156466  1.004541  0.101834\n",
       "max    1.459295  1.516964  1.217683  0.487554"
      ]
     },
     "execution_count": 14,
     "metadata": {},
     "output_type": "execute_result"
    }
   ],
   "source": [
    "#Describe() muestra un resumen de las estadísticas de los datos\n",
    "fechas2.describe()"
   ]
  },
  {
   "cell_type": "code",
   "execution_count": 15,
   "metadata": {},
   "outputs": [
    {
     "data": {
      "text/html": [
       "<div>\n",
       "<style scoped>\n",
       "    .dataframe tbody tr th:only-of-type {\n",
       "        vertical-align: middle;\n",
       "    }\n",
       "\n",
       "    .dataframe tbody tr th {\n",
       "        vertical-align: top;\n",
       "    }\n",
       "\n",
       "    .dataframe thead th {\n",
       "        text-align: right;\n",
       "    }\n",
       "</style>\n",
       "<table border=\"1\" class=\"dataframe\">\n",
       "  <thead>\n",
       "    <tr style=\"text-align: right;\">\n",
       "      <th></th>\n",
       "      <th>2022-01-01</th>\n",
       "      <th>2022-01-02</th>\n",
       "      <th>2022-01-03</th>\n",
       "      <th>2022-01-04</th>\n",
       "      <th>2022-01-05</th>\n",
       "      <th>2022-01-06</th>\n",
       "    </tr>\n",
       "  </thead>\n",
       "  <tbody>\n",
       "    <tr>\n",
       "      <th>A</th>\n",
       "      <td>-1.422679</td>\n",
       "      <td>1.100917</td>\n",
       "      <td>0.935788</td>\n",
       "      <td>1.459295</td>\n",
       "      <td>-1.424960</td>\n",
       "      <td>-1.358037</td>\n",
       "    </tr>\n",
       "    <tr>\n",
       "      <th>B</th>\n",
       "      <td>-1.315275</td>\n",
       "      <td>-0.861588</td>\n",
       "      <td>-0.568866</td>\n",
       "      <td>1.516964</td>\n",
       "      <td>0.398243</td>\n",
       "      <td>-1.812294</td>\n",
       "    </tr>\n",
       "    <tr>\n",
       "      <th>C</th>\n",
       "      <td>0.295780</td>\n",
       "      <td>0.605273</td>\n",
       "      <td>-1.352506</td>\n",
       "      <td>1.137631</td>\n",
       "      <td>1.217683</td>\n",
       "      <td>0.467139</td>\n",
       "    </tr>\n",
       "    <tr>\n",
       "      <th>D</th>\n",
       "      <td>0.042066</td>\n",
       "      <td>0.487554</td>\n",
       "      <td>-0.685861</td>\n",
       "      <td>-0.292293</td>\n",
       "      <td>0.121757</td>\n",
       "      <td>-0.537333</td>\n",
       "    </tr>\n",
       "  </tbody>\n",
       "</table>\n",
       "</div>"
      ],
      "text/plain": [
       "   2022-01-01  2022-01-02  2022-01-03  2022-01-04  2022-01-05  2022-01-06\n",
       "A   -1.422679    1.100917    0.935788    1.459295   -1.424960   -1.358037\n",
       "B   -1.315275   -0.861588   -0.568866    1.516964    0.398243   -1.812294\n",
       "C    0.295780    0.605273   -1.352506    1.137631    1.217683    0.467139\n",
       "D    0.042066    0.487554   -0.685861   -0.292293    0.121757   -0.537333"
      ]
     },
     "execution_count": 15,
     "metadata": {},
     "output_type": "execute_result"
    }
   ],
   "source": [
    "#Para transponer datos:\n",
    "fechas2.T"
   ]
  },
  {
   "cell_type": "code",
   "execution_count": 16,
   "metadata": {},
   "outputs": [
    {
     "data": {
      "text/html": [
       "<div>\n",
       "<style scoped>\n",
       "    .dataframe tbody tr th:only-of-type {\n",
       "        vertical-align: middle;\n",
       "    }\n",
       "\n",
       "    .dataframe tbody tr th {\n",
       "        vertical-align: top;\n",
       "    }\n",
       "\n",
       "    .dataframe thead th {\n",
       "        text-align: right;\n",
       "    }\n",
       "</style>\n",
       "<table border=\"1\" class=\"dataframe\">\n",
       "  <thead>\n",
       "    <tr style=\"text-align: right;\">\n",
       "      <th></th>\n",
       "      <th>D</th>\n",
       "      <th>C</th>\n",
       "      <th>B</th>\n",
       "      <th>A</th>\n",
       "    </tr>\n",
       "  </thead>\n",
       "  <tbody>\n",
       "    <tr>\n",
       "      <th>2022-01-01</th>\n",
       "      <td>0.042066</td>\n",
       "      <td>0.295780</td>\n",
       "      <td>-1.315275</td>\n",
       "      <td>-1.422679</td>\n",
       "    </tr>\n",
       "    <tr>\n",
       "      <th>2022-01-02</th>\n",
       "      <td>0.487554</td>\n",
       "      <td>0.605273</td>\n",
       "      <td>-0.861588</td>\n",
       "      <td>1.100917</td>\n",
       "    </tr>\n",
       "    <tr>\n",
       "      <th>2022-01-03</th>\n",
       "      <td>-0.685861</td>\n",
       "      <td>-1.352506</td>\n",
       "      <td>-0.568866</td>\n",
       "      <td>0.935788</td>\n",
       "    </tr>\n",
       "    <tr>\n",
       "      <th>2022-01-04</th>\n",
       "      <td>-0.292293</td>\n",
       "      <td>1.137631</td>\n",
       "      <td>1.516964</td>\n",
       "      <td>1.459295</td>\n",
       "    </tr>\n",
       "    <tr>\n",
       "      <th>2022-01-05</th>\n",
       "      <td>0.121757</td>\n",
       "      <td>1.217683</td>\n",
       "      <td>0.398243</td>\n",
       "      <td>-1.424960</td>\n",
       "    </tr>\n",
       "    <tr>\n",
       "      <th>2022-01-06</th>\n",
       "      <td>-0.537333</td>\n",
       "      <td>0.467139</td>\n",
       "      <td>-1.812294</td>\n",
       "      <td>-1.358037</td>\n",
       "    </tr>\n",
       "  </tbody>\n",
       "</table>\n",
       "</div>"
      ],
      "text/plain": [
       "                   D         C         B         A\n",
       "2022-01-01  0.042066  0.295780 -1.315275 -1.422679\n",
       "2022-01-02  0.487554  0.605273 -0.861588  1.100917\n",
       "2022-01-03 -0.685861 -1.352506 -0.568866  0.935788\n",
       "2022-01-04 -0.292293  1.137631  1.516964  1.459295\n",
       "2022-01-05  0.121757  1.217683  0.398243 -1.424960\n",
       "2022-01-06 -0.537333  0.467139 -1.812294 -1.358037"
      ]
     },
     "execution_count": 16,
     "metadata": {},
     "output_type": "execute_result"
    }
   ],
   "source": [
    "#Ordenar en un eje\n",
    "#axis=0, el primer valor de esa matriz bidimencional, tiene dos ejes, las hilesras es 0 si es columnas es 1\n",
    "fechas2.sort_index(axis=1, ascending=False)"
   ]
  },
  {
   "cell_type": "code",
   "execution_count": 17,
   "metadata": {},
   "outputs": [
    {
     "data": {
      "text/html": [
       "<div>\n",
       "<style scoped>\n",
       "    .dataframe tbody tr th:only-of-type {\n",
       "        vertical-align: middle;\n",
       "    }\n",
       "\n",
       "    .dataframe tbody tr th {\n",
       "        vertical-align: top;\n",
       "    }\n",
       "\n",
       "    .dataframe thead th {\n",
       "        text-align: right;\n",
       "    }\n",
       "</style>\n",
       "<table border=\"1\" class=\"dataframe\">\n",
       "  <thead>\n",
       "    <tr style=\"text-align: right;\">\n",
       "      <th></th>\n",
       "      <th>A</th>\n",
       "      <th>B</th>\n",
       "      <th>C</th>\n",
       "      <th>D</th>\n",
       "    </tr>\n",
       "  </thead>\n",
       "  <tbody>\n",
       "    <tr>\n",
       "      <th>2022-01-06</th>\n",
       "      <td>-1.358037</td>\n",
       "      <td>-1.812294</td>\n",
       "      <td>0.467139</td>\n",
       "      <td>-0.537333</td>\n",
       "    </tr>\n",
       "    <tr>\n",
       "      <th>2022-01-01</th>\n",
       "      <td>-1.422679</td>\n",
       "      <td>-1.315275</td>\n",
       "      <td>0.295780</td>\n",
       "      <td>0.042066</td>\n",
       "    </tr>\n",
       "    <tr>\n",
       "      <th>2022-01-02</th>\n",
       "      <td>1.100917</td>\n",
       "      <td>-0.861588</td>\n",
       "      <td>0.605273</td>\n",
       "      <td>0.487554</td>\n",
       "    </tr>\n",
       "    <tr>\n",
       "      <th>2022-01-03</th>\n",
       "      <td>0.935788</td>\n",
       "      <td>-0.568866</td>\n",
       "      <td>-1.352506</td>\n",
       "      <td>-0.685861</td>\n",
       "    </tr>\n",
       "    <tr>\n",
       "      <th>2022-01-05</th>\n",
       "      <td>-1.424960</td>\n",
       "      <td>0.398243</td>\n",
       "      <td>1.217683</td>\n",
       "      <td>0.121757</td>\n",
       "    </tr>\n",
       "    <tr>\n",
       "      <th>2022-01-04</th>\n",
       "      <td>1.459295</td>\n",
       "      <td>1.516964</td>\n",
       "      <td>1.137631</td>\n",
       "      <td>-0.292293</td>\n",
       "    </tr>\n",
       "  </tbody>\n",
       "</table>\n",
       "</div>"
      ],
      "text/plain": [
       "                   A         B         C         D\n",
       "2022-01-06 -1.358037 -1.812294  0.467139 -0.537333\n",
       "2022-01-01 -1.422679 -1.315275  0.295780  0.042066\n",
       "2022-01-02  1.100917 -0.861588  0.605273  0.487554\n",
       "2022-01-03  0.935788 -0.568866 -1.352506 -0.685861\n",
       "2022-01-05 -1.424960  0.398243  1.217683  0.121757\n",
       "2022-01-04  1.459295  1.516964  1.137631 -0.292293"
      ]
     },
     "execution_count": 17,
     "metadata": {},
     "output_type": "execute_result"
    }
   ],
   "source": [
    "#Ordenar por valores\n",
    "fechas2.sort_values(by=\"B\")"
   ]
  },
  {
   "cell_type": "markdown",
   "metadata": {},
   "source": [
    "# OBTENER DATOS"
   ]
  },
  {
   "cell_type": "code",
   "execution_count": 18,
   "metadata": {},
   "outputs": [
    {
     "data": {
      "text/plain": [
       "2022-01-01   -1.422679\n",
       "2022-01-02    1.100917\n",
       "2022-01-03    0.935788\n",
       "2022-01-04    1.459295\n",
       "2022-01-05   -1.424960\n",
       "2022-01-06   -1.358037\n",
       "Freq: D, Name: A, dtype: float64"
      ]
     },
     "execution_count": 18,
     "metadata": {},
     "output_type": "execute_result"
    }
   ],
   "source": [
    "# Para seleccionar solo una columna, que obtiene una serie, equivalente a fechas2.A:\n",
    "fechas2[\"A\"]"
   ]
  },
  {
   "cell_type": "code",
   "execution_count": 22,
   "metadata": {},
   "outputs": [
    {
     "data": {
      "text/html": [
       "<div>\n",
       "<style scoped>\n",
       "    .dataframe tbody tr th:only-of-type {\n",
       "        vertical-align: middle;\n",
       "    }\n",
       "\n",
       "    .dataframe tbody tr th {\n",
       "        vertical-align: top;\n",
       "    }\n",
       "\n",
       "    .dataframe thead th {\n",
       "        text-align: right;\n",
       "    }\n",
       "</style>\n",
       "<table border=\"1\" class=\"dataframe\">\n",
       "  <thead>\n",
       "    <tr style=\"text-align: right;\">\n",
       "      <th></th>\n",
       "      <th>A</th>\n",
       "      <th>B</th>\n",
       "      <th>C</th>\n",
       "      <th>D</th>\n",
       "    </tr>\n",
       "  </thead>\n",
       "  <tbody>\n",
       "    <tr>\n",
       "      <th>2022-01-01</th>\n",
       "      <td>-1.422679</td>\n",
       "      <td>-1.315275</td>\n",
       "      <td>0.295780</td>\n",
       "      <td>0.042066</td>\n",
       "    </tr>\n",
       "    <tr>\n",
       "      <th>2022-01-02</th>\n",
       "      <td>1.100917</td>\n",
       "      <td>-0.861588</td>\n",
       "      <td>0.605273</td>\n",
       "      <td>0.487554</td>\n",
       "    </tr>\n",
       "    <tr>\n",
       "      <th>2022-01-03</th>\n",
       "      <td>0.935788</td>\n",
       "      <td>-0.568866</td>\n",
       "      <td>-1.352506</td>\n",
       "      <td>-0.685861</td>\n",
       "    </tr>\n",
       "  </tbody>\n",
       "</table>\n",
       "</div>"
      ],
      "text/plain": [
       "                   A         B         C         D\n",
       "2022-01-01 -1.422679 -1.315275  0.295780  0.042066\n",
       "2022-01-02  1.100917 -0.861588  0.605273  0.487554\n",
       "2022-01-03  0.935788 -0.568866 -1.352506 -0.685861"
      ]
     },
     "execution_count": 22,
     "metadata": {},
     "output_type": "execute_result"
    }
   ],
   "source": [
    "# Seleccionar vía [], la cual selecciona por hilera.\n",
    "fechas2[0:3]"
   ]
  },
  {
   "cell_type": "code",
   "execution_count": 20,
   "metadata": {
    "scrolled": true
   },
   "outputs": [
    {
     "data": {
      "text/html": [
       "<div>\n",
       "<style scoped>\n",
       "    .dataframe tbody tr th:only-of-type {\n",
       "        vertical-align: middle;\n",
       "    }\n",
       "\n",
       "    .dataframe tbody tr th {\n",
       "        vertical-align: top;\n",
       "    }\n",
       "\n",
       "    .dataframe thead th {\n",
       "        text-align: right;\n",
       "    }\n",
       "</style>\n",
       "<table border=\"1\" class=\"dataframe\">\n",
       "  <thead>\n",
       "    <tr style=\"text-align: right;\">\n",
       "      <th></th>\n",
       "      <th>A</th>\n",
       "      <th>B</th>\n",
       "      <th>C</th>\n",
       "      <th>D</th>\n",
       "    </tr>\n",
       "  </thead>\n",
       "  <tbody>\n",
       "    <tr>\n",
       "      <th>2022-01-02</th>\n",
       "      <td>1.100917</td>\n",
       "      <td>-0.861588</td>\n",
       "      <td>0.605273</td>\n",
       "      <td>0.487554</td>\n",
       "    </tr>\n",
       "    <tr>\n",
       "      <th>2022-01-03</th>\n",
       "      <td>0.935788</td>\n",
       "      <td>-0.568866</td>\n",
       "      <td>-1.352506</td>\n",
       "      <td>-0.685861</td>\n",
       "    </tr>\n",
       "    <tr>\n",
       "      <th>2022-01-04</th>\n",
       "      <td>1.459295</td>\n",
       "      <td>1.516964</td>\n",
       "      <td>1.137631</td>\n",
       "      <td>-0.292293</td>\n",
       "    </tr>\n",
       "  </tbody>\n",
       "</table>\n",
       "</div>"
      ],
      "text/plain": [
       "                   A         B         C         D\n",
       "2022-01-02  1.100917 -0.861588  0.605273  0.487554\n",
       "2022-01-03  0.935788 -0.568866 -1.352506 -0.685861\n",
       "2022-01-04  1.459295  1.516964  1.137631 -0.292293"
      ]
     },
     "execution_count": 20,
     "metadata": {},
     "output_type": "execute_result"
    }
   ],
   "source": [
    "fechas2[\"20220102\":\"20220104\"]"
   ]
  },
  {
   "cell_type": "markdown",
   "metadata": {},
   "source": [
    "# SELECCION POR ETIQUETA\n"
   ]
  },
  {
   "cell_type": "code",
   "execution_count": 23,
   "metadata": {
    "scrolled": true
   },
   "outputs": [
    {
     "data": {
      "text/plain": [
       "A   -1.422679\n",
       "B   -1.315275\n",
       "C    0.295780\n",
       "D    0.042066\n",
       "Name: 2022-01-01 00:00:00, dtype: float64"
      ]
     },
     "execution_count": 23,
     "metadata": {},
     "output_type": "execute_result"
    }
   ],
   "source": [
    "#Para obtener una selección de datos usando etiquetas:\n",
    "fechas2.loc[fechas[0]]"
   ]
  },
  {
   "cell_type": "code",
   "execution_count": 24,
   "metadata": {},
   "outputs": [
    {
     "data": {
      "text/html": [
       "<div>\n",
       "<style scoped>\n",
       "    .dataframe tbody tr th:only-of-type {\n",
       "        vertical-align: middle;\n",
       "    }\n",
       "\n",
       "    .dataframe tbody tr th {\n",
       "        vertical-align: top;\n",
       "    }\n",
       "\n",
       "    .dataframe thead th {\n",
       "        text-align: right;\n",
       "    }\n",
       "</style>\n",
       "<table border=\"1\" class=\"dataframe\">\n",
       "  <thead>\n",
       "    <tr style=\"text-align: right;\">\n",
       "      <th></th>\n",
       "      <th>A</th>\n",
       "      <th>B</th>\n",
       "    </tr>\n",
       "  </thead>\n",
       "  <tbody>\n",
       "    <tr>\n",
       "      <th>2022-01-01</th>\n",
       "      <td>-1.422679</td>\n",
       "      <td>-1.315275</td>\n",
       "    </tr>\n",
       "    <tr>\n",
       "      <th>2022-01-02</th>\n",
       "      <td>1.100917</td>\n",
       "      <td>-0.861588</td>\n",
       "    </tr>\n",
       "    <tr>\n",
       "      <th>2022-01-03</th>\n",
       "      <td>0.935788</td>\n",
       "      <td>-0.568866</td>\n",
       "    </tr>\n",
       "    <tr>\n",
       "      <th>2022-01-04</th>\n",
       "      <td>1.459295</td>\n",
       "      <td>1.516964</td>\n",
       "    </tr>\n",
       "    <tr>\n",
       "      <th>2022-01-05</th>\n",
       "      <td>-1.424960</td>\n",
       "      <td>0.398243</td>\n",
       "    </tr>\n",
       "    <tr>\n",
       "      <th>2022-01-06</th>\n",
       "      <td>-1.358037</td>\n",
       "      <td>-1.812294</td>\n",
       "    </tr>\n",
       "  </tbody>\n",
       "</table>\n",
       "</div>"
      ],
      "text/plain": [
       "                   A         B\n",
       "2022-01-01 -1.422679 -1.315275\n",
       "2022-01-02  1.100917 -0.861588\n",
       "2022-01-03  0.935788 -0.568866\n",
       "2022-01-04  1.459295  1.516964\n",
       "2022-01-05 -1.424960  0.398243\n",
       "2022-01-06 -1.358037 -1.812294"
      ]
     },
     "execution_count": 24,
     "metadata": {},
     "output_type": "execute_result"
    }
   ],
   "source": [
    "#Selección multieje por etiqueta:\n",
    "#cuando solo aparecen los puntos es para todos, sin usar rango\n",
    "fechas2.loc[:,[\"A\",\"B\"]]"
   ]
  },
  {
   "cell_type": "code",
   "execution_count": 25,
   "metadata": {},
   "outputs": [
    {
     "data": {
      "text/html": [
       "<div>\n",
       "<style scoped>\n",
       "    .dataframe tbody tr th:only-of-type {\n",
       "        vertical-align: middle;\n",
       "    }\n",
       "\n",
       "    .dataframe tbody tr th {\n",
       "        vertical-align: top;\n",
       "    }\n",
       "\n",
       "    .dataframe thead th {\n",
       "        text-align: right;\n",
       "    }\n",
       "</style>\n",
       "<table border=\"1\" class=\"dataframe\">\n",
       "  <thead>\n",
       "    <tr style=\"text-align: right;\">\n",
       "      <th></th>\n",
       "      <th>A</th>\n",
       "      <th>B</th>\n",
       "    </tr>\n",
       "  </thead>\n",
       "  <tbody>\n",
       "    <tr>\n",
       "      <th>2022-01-02</th>\n",
       "      <td>1.100917</td>\n",
       "      <td>-0.861588</td>\n",
       "    </tr>\n",
       "    <tr>\n",
       "      <th>2022-01-03</th>\n",
       "      <td>0.935788</td>\n",
       "      <td>-0.568866</td>\n",
       "    </tr>\n",
       "    <tr>\n",
       "      <th>2022-01-04</th>\n",
       "      <td>1.459295</td>\n",
       "      <td>1.516964</td>\n",
       "    </tr>\n",
       "  </tbody>\n",
       "</table>\n",
       "</div>"
      ],
      "text/plain": [
       "                   A         B\n",
       "2022-01-02  1.100917 -0.861588\n",
       "2022-01-03  0.935788 -0.568866\n",
       "2022-01-04  1.459295  1.516964"
      ]
     },
     "execution_count": 25,
     "metadata": {},
     "output_type": "execute_result"
    }
   ],
   "source": [
    "#Selecciona por etiqueta, en donde se incluyen ambos puntos terminales:\n",
    " \n",
    "fechas2.loc[\"20220102\":\"20220104\", [\"A\",\"B\"]]\n"
   ]
  },
  {
   "cell_type": "code",
   "execution_count": 26,
   "metadata": {},
   "outputs": [
    {
     "data": {
      "text/plain": [
       "A    1.100917\n",
       "B   -0.861588\n",
       "Name: 2022-01-02 00:00:00, dtype: float64"
      ]
     },
     "execution_count": 26,
     "metadata": {},
     "output_type": "execute_result"
    }
   ],
   "source": [
    "#Reducción en las dimensiones del objeto presentado:\n",
    "fechas2.loc[\"20220102\",[\"A\",\"B\"]]"
   ]
  },
  {
   "cell_type": "code",
   "execution_count": 27,
   "metadata": {},
   "outputs": [
    {
     "data": {
      "text/plain": [
       "-1.4226786039561061"
      ]
     },
     "execution_count": 27,
     "metadata": {},
     "output_type": "execute_result"
    }
   ],
   "source": [
    "#Para obtener un valor escalar:\n",
    "fechas2.loc[fechas[0],\"A\"]"
   ]
  },
  {
   "cell_type": "code",
   "execution_count": 28,
   "metadata": {},
   "outputs": [
    {
     "data": {
      "text/plain": [
       "-1.4226786039561061"
      ]
     },
     "execution_count": 28,
     "metadata": {},
     "output_type": "execute_result"
    }
   ],
   "source": [
    "#Para acceder a a un valor escalar (equivalente al método anterior):\n",
    "fechas2.at[fechas[0],\"A\"]"
   ]
  },
  {
   "cell_type": "markdown",
   "metadata": {},
   "source": [
    "# SELECCIÓN POR POSICIÓN\n"
   ]
  },
  {
   "cell_type": "code",
   "execution_count": 29,
   "metadata": {},
   "outputs": [
    {
     "data": {
      "text/plain": [
       "A    1.459295\n",
       "B    1.516964\n",
       "C    1.137631\n",
       "D   -0.292293\n",
       "Name: 2022-01-04 00:00:00, dtype: float64"
      ]
     },
     "execution_count": 29,
     "metadata": {},
     "output_type": "execute_result"
    }
   ],
   "source": [
    "#Seleccionar vía la posición de los enteros anteriores:\n",
    "fechas2.iloc[3]"
   ]
  },
  {
   "cell_type": "code",
   "execution_count": 30,
   "metadata": {
    "scrolled": true
   },
   "outputs": [
    {
     "data": {
      "text/html": [
       "<div>\n",
       "<style scoped>\n",
       "    .dataframe tbody tr th:only-of-type {\n",
       "        vertical-align: middle;\n",
       "    }\n",
       "\n",
       "    .dataframe tbody tr th {\n",
       "        vertical-align: top;\n",
       "    }\n",
       "\n",
       "    .dataframe thead th {\n",
       "        text-align: right;\n",
       "    }\n",
       "</style>\n",
       "<table border=\"1\" class=\"dataframe\">\n",
       "  <thead>\n",
       "    <tr style=\"text-align: right;\">\n",
       "      <th></th>\n",
       "      <th>A</th>\n",
       "      <th>B</th>\n",
       "    </tr>\n",
       "  </thead>\n",
       "  <tbody>\n",
       "    <tr>\n",
       "      <th>2022-01-04</th>\n",
       "      <td>1.459295</td>\n",
       "      <td>1.516964</td>\n",
       "    </tr>\n",
       "    <tr>\n",
       "      <th>2022-01-05</th>\n",
       "      <td>-1.424960</td>\n",
       "      <td>0.398243</td>\n",
       "    </tr>\n",
       "  </tbody>\n",
       "</table>\n",
       "</div>"
      ],
      "text/plain": [
       "                   A         B\n",
       "2022-01-04  1.459295  1.516964\n",
       "2022-01-05 -1.424960  0.398243"
      ]
     },
     "execution_count": 30,
     "metadata": {},
     "output_type": "execute_result"
    }
   ],
   "source": [
    "#Selección de enteros, de forma similar como en NumPY/Python:\n",
    "fechas2.iloc[3:5,0:2]"
   ]
  },
  {
   "cell_type": "markdown",
   "metadata": {},
   "source": [
    "# OTROS TEMAS:\n",
    "\n",
    "- Manejo de datos perdidos\n",
    "- Operaciones estadísticas\n",
    "- Histogramas\n",
    "- Unión de tablas de datos\n",
    "- Agrupamientos\n",
    "- Redimensionamiento de datos\n",
    "- Series de tiempo\n",
    "- Categorías\n",
    "- Graficado\n",
    "- Importación y exportación de datos\n"
   ]
  },
  {
   "cell_type": "code",
   "execution_count": null,
   "metadata": {},
   "outputs": [],
   "source": []
  }
 ],
 "metadata": {
  "kernelspec": {
   "display_name": "Python 3 (ipykernel)",
   "language": "python",
   "name": "python3"
  },
  "language_info": {
   "codemirror_mode": {
    "name": "ipython",
    "version": 3
   },
   "file_extension": ".py",
   "mimetype": "text/x-python",
   "name": "python",
   "nbconvert_exporter": "python",
   "pygments_lexer": "ipython3",
   "version": "3.9.9"
  }
 },
 "nbformat": 4,
 "nbformat_minor": 4
}
