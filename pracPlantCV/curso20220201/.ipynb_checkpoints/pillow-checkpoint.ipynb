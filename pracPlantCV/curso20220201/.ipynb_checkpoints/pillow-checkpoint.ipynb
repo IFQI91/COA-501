{
 "cells": [
  {
   "cell_type": "markdown",
   "metadata": {},
   "source": [
    "# PILLOW\n",
    "\n",
    "La Python Imaging Library (pillow) añade capacidades para el proceso de imágenes a Python.\n",
    "\n",
    "La librería se basa en el uso de diversos formatos de archivos, y tiene herramientas poderosas para el proceso de imágenes.\n"
   ]
  },
  {
   "cell_type": "code",
   "execution_count": null,
   "metadata": {},
   "outputs": [],
   "source": [
    "#incluir la librería\n",
    "from PIL import Image\n",
    "im = Image.open('./hoja.png')\n",
    "\n",
    "#\"Si se accede con éxito a la imagen, entonces se obtiene un objeto Imagen\". Enseguida se pueden usar atributos\n",
    "#para examinar el contenido del archivo."
   ]
  },
  {
   "cell_type": "code",
   "execution_count": null,
   "metadata": {},
   "outputs": [],
   "source": [
    "print(im.format, im.size, im.mode)\n",
    "\n"
   ]
  },
  {
   "cell_type": "code",
   "execution_count": null,
   "metadata": {},
   "outputs": [],
   "source": [
    "im.show()\n"
   ]
  },
  {
   "cell_type": "markdown",
   "metadata": {},
   "source": [
    "Nota: La versión estándar de show() no es muy eficiente debido a que guarda la imagen en un archivo temporal y lo llama con el uso de alguna aplicación para presentar imágenes. Si uno no cuenta con la utilidad apropiada en la computadora, posiblemente no se presentará la imagen. Sin embargo, cuando funciona, es muy útil para prueba y búsqueda de errores."
   ]
  },
  {
   "cell_type": "code",
   "execution_count": null,
   "metadata": {},
   "outputs": [],
   "source": [
    "#Aumento de contraste\n",
    "from PIL import ImageEnhance\n",
    "\n",
    "enh = ImageEnhance.Contrast(im)\n",
    "enh.enhance(1.).show(\"30% more contrast\")"
   ]
  },
  {
   "cell_type": "code",
   "execution_count": null,
   "metadata": {},
   "outputs": [],
   "source": [
    "## Copia de un subrectángulo de la imagen\n",
    "box = (100, 100, 400, 400)\n",
    "region = im.crop(box)"
   ]
  },
  {
   "cell_type": "code",
   "execution_count": null,
   "metadata": {},
   "outputs": [],
   "source": [
    "region.show()"
   ]
  },
  {
   "cell_type": "code",
   "execution_count": null,
   "metadata": {},
   "outputs": [],
   "source": [
    "region=region.transpose(Image.ROTATE_180)\n",
    "im.paste(region,box)"
   ]
  },
  {
   "cell_type": "code",
   "execution_count": null,
   "metadata": {},
   "outputs": [],
   "source": [
    "im.show()"
   ]
  },
  {
   "cell_type": "code",
   "execution_count": null,
   "metadata": {},
   "outputs": [],
   "source": []
  }
 ],
 "metadata": {
  "kernelspec": {
   "display_name": "Python 3",
   "language": "python",
   "name": "python3"
  },
  "language_info": {
   "codemirror_mode": {
    "name": "ipython",
    "version": 3
   },
   "file_extension": ".py",
   "mimetype": "text/x-python",
   "name": "python",
   "nbconvert_exporter": "python",
   "pygments_lexer": "ipython3",
   "version": "3.9.4"
  }
 },
 "nbformat": 4,
 "nbformat_minor": 4
}
