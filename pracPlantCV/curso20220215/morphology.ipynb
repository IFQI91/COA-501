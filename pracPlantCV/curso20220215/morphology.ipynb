{
 "cells": [
  {
   "cell_type": "markdown",
   "metadata": {},
   "source": [
    "Morphology Tutorial\n",
    "Morphology sub-package functions can be used with a clean mask of a plant (see VIS tutorial for examples of masking background. This tutorial will start with a binary mask (after object segmentation has been completed) but in a complete workflow users will need to use other functions to achieve plant isolation. Skeletonizing is very sensitive to any pepper noise remaining within a binary mask. Morphology functions are intended to be one type of object analysis. These functions can potentially return information about leaf length, leaf angle, and leaf curvature."
   ]
  },
  {
   "cell_type": "code",
   "execution_count": null,
   "metadata": {},
   "outputs": [],
   "source": [
    "# Import libraries\n",
    "from plantcv import plantcv as pcv \n",
    "import pandas as pd\n"
   ]
  },
  {
   "cell_type": "code",
   "execution_count": null,
   "metadata": {},
   "outputs": [],
   "source": [
    "class options:\n",
    "    def __init__(self):\n",
    "        self.image = \"plantula.png\"\n",
    "        self.debug = \"plot\"\n",
    "        self.writeimg= True \n",
    "        self.result = \"morphology_results.txt\"\n",
    "        self.outdir = \"./\"\n",
    "\n",
    "# Get options\n",
    "args = options()\n",
    "\n",
    "# Set debug to the global parameter \n",
    "pcv.params.debug = args.debug\n",
    "\n"
   ]
  },
  {
   "cell_type": "code",
   "execution_count": null,
   "metadata": {
    "scrolled": false
   },
   "outputs": [],
   "source": [
    "# Read image (sometimes you need to run this line twice to see the image) \n",
    "\n",
    "# Inputs:\n",
    "#   filename - Image file to be read in \n",
    "#   mode - How to read in the image; either 'native' (default), 'rgb', 'gray', or 'csv'\n",
    "img, path, filename = pcv.readimage(filename=args.image)\n",
    "\n",
    "\n",
    "# Create masked image from a color image based RGB color-space and threshold values. \n",
    "# for lower and upper_thresh list as: thresh = [red_thresh, green_thresh, blue_thresh]\n",
    "\n",
    "#mask, masked_img = pcv.threshold.custom_range(img=img, lower_thresh=[5,5,5], upper_thresh=[230,230,230], channel='RGB')\n",
    "\n",
    "\n",
    "# Create masked image from a color image based HSV color-space and threshold values. \n",
    "# for lower and upper_thresh list as: thresh = [hue_thresh, saturation_thresh, value_thresh]\n",
    "\n",
    "#mask, masked_img = pcv.threshold.custom_range(img=img, lower_thresh=[30,65,20], upper_thresh=[70,255,220], channel='HSV')\n",
    "\n",
    "\n",
    "# Create masked image from a color image based LAB color-space and threshold values.\n",
    "# for lower and upper_thresh list as: thresh = [L_thresh, A_thresh, B_thresh]\n",
    "#mask, masked_img = pcv.threshold.custom_range(img=img, lower_thresh=[0,0,158], upper_thresh=[255,255,255], channel='LAB')\n",
    "\n",
    "\n",
    "# Create masked image based grayscale color-space and threshold values. \n",
    "# Note that a grayscale image is used. pcv.threshold.custom_range works with both RGB and gray input images. \n",
    "#mask, masked_img = pcv.threshold.custom_range(img=gray_img, lower_thresh=[39], upper_thresh=[100], channel='gray')\n",
    "\n",
    "\n",
    "\n",
    "\n",
    "# Crop the mask \n",
    "#cropped_mask = mask[220:600, 100:510]\n",
    "\n"
   ]
  },
  {
   "cell_type": "code",
   "execution_count": null,
   "metadata": {
    "scrolled": false
   },
   "outputs": [],
   "source": [
    "# Convert RGB to HSV and extract the saturation channel\n",
    "\n",
    "# Inputs:\n",
    "#   rgb_image - RGB image data \n",
    "#   channel - Split by 'h' (hue), 's' (saturation), or 'v' (value) channel\n",
    "b = pcv.rgb2gray_lab(rgb_img=img, channel='b')"
   ]
  },
  {
   "cell_type": "code",
   "execution_count": null,
   "metadata": {},
   "outputs": [],
   "source": [
    "# Crop the mask \n",
    "cropped_b = b[0:340,:]\n",
    "\n"
   ]
  },
  {
   "cell_type": "code",
   "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