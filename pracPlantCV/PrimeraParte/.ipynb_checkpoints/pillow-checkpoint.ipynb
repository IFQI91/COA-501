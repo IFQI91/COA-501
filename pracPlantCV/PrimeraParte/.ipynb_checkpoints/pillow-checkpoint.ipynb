{
 "cells": [
  {
   "cell_type": "markdown",
   "metadata": {},
   "source": [
    "# PILLOW\n",
    "\n",
    "La Python Imaging Library (pillow) añade capacidad al lenguaje de programación Pyhton para el proceso de imágenes.\n",
    "\n",
    "La librería usa diversos formatos de archivos, y tiene herramientas muy capaces para el proceso de imágenes.\n"
   ]
  },
  {
   "cell_type": "code",
   "execution_count": 2,
   "metadata": {},
   "outputs": [],
   "source": [
    "#incluir la librería\n",
    "from PIL import Image\n",
    "im = Image.open('./hoja.png')\n",
    "\n",
    "#\"Si se accede con éxito a la imagen, entonces se obtiene un objeto Imagen\". Enseguida se pueden usar los atributos\n",
    "# de la imagen para examinar el contenido del archivo."
   ]
  },
  {
   "cell_type": "code",
   "execution_count": 3,
   "metadata": {},
   "outputs": [
    {
     "name": "stdout",
     "output_type": "stream",
     "text": [
      "PNG (505, 525) RGBA\n"
     ]
    }
   ],
   "source": [
    "print(im.format, im.size, im.mode)\n",
    "\n"
   ]
  },
  {
   "cell_type": "code",
   "execution_count": 4,
   "metadata": {},
   "outputs": [],
   "source": [
    "im.show()\n"
   ]
  },
  {
   "cell_type": "markdown",
   "metadata": {},
   "source": [
    "Nota: La versión estándar del comando show() no es muy eficiente debido a que guarda la imagen en un archivo temporal y lo llama con el uso de alguna aplicación para presentar imágenes. Si uno no cuenta en nuestra computadora con la utilidad apropiada, entonces es posiblemente que no se logre presentar la imagen en pantalla. Sin embargo, cuando funciona, es muy útil para prueba y búsqueda de errores."
   ]
  },
  {
   "cell_type": "code",
   "execution_count": 5,
   "metadata": {},
   "outputs": [],
   "source": [
    "#Aumento de contraste\n",
    "from PIL import ImageEnhance\n",
    "\n",
    "enh = ImageEnhance.Contrast(im)\n",
    "enh.enhance(1.).show(\"30% more contrast\")"
   ]
  },
  {
   "cell_type": "code",
   "execution_count": 6,
   "metadata": {},
   "outputs": [],
   "source": [
    "## Copia de un subrectángulo de la imagen\n",
    "box = (100, 100, 400, 400)\n",
    "region = im.crop(box)"
   ]
  },
  {
   "cell_type": "code",
   "execution_count": 7,
   "metadata": {},
   "outputs": [],
   "source": [
    "region.show()"
   ]
  },
  {
   "cell_type": "code",
   "execution_count": 8,
   "metadata": {},
   "outputs": [
    {
     "name": "stderr",
     "output_type": "stream",
     "text": [
      "C:\\Users\\semex_7vulq7b\\AppData\\Local\\Temp\\ipykernel_20944\\3827574460.py:1: DeprecationWarning: ROTATE_180 is deprecated and will be removed in Pillow 10 (2023-07-01). Use Transpose.ROTATE_180 instead.\n",
      "  region=region.transpose(Image.ROTATE_180)\n"
     ]
    }
   ],
   "source": [
    "region=region.transpose(Image.ROTATE_180)\n",
    "im.paste(region,box)"
   ]
  },
  {
   "cell_type": "code",
   "execution_count": 9,
   "metadata": {},
   "outputs": [],
   "source": [
    "im.show()"
   ]
  },
  {
   "cell_type": "code",
   "execution_count": null,
   "metadata": {},
   "outputs": [],
   "source": []
  }
 ],
 "metadata": {
  "kernelspec": {
   "display_name": "Python 3 (ipykernel)",
   "language": "python",
   "name": "python3"
  },
  "language_info": {
   "codemirror_mode": {
    "name": "ipython",
    "version": 3
   },
   "file_extension": ".py",
   "mimetype": "text/x-python",
   "name": "python",
   "nbconvert_exporter": "python",
   "pygments_lexer": "ipython3",
   "version": "3.9.9"
  }
 },
 "nbformat": 4,
 "nbformat_minor": 4
}
